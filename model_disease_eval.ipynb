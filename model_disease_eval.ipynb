{
 "cells": [
  {
   "cell_type": "code",
   "execution_count": 1,
   "id": "21a76ab1-de5a-45ea-91d1-1ddc030912ba",
   "metadata": {},
   "outputs": [],
   "source": [
    "import pandas as pd\n",
    "from openai import OpenAI\n",
    "import random"
   ]
  },
  {
   "cell_type": "code",
   "execution_count": 2,
   "id": "974ed0e0-36a0-490a-b217-fe60a7422f5b",
   "metadata": {},
   "outputs": [],
   "source": [
    "# Arguments\n",
    "infile='./depmap/Model.csv.gz'\n",
    "host='127.0.0.1'\n",
    "port='9999'\n",
    "model='meta-llama/Meta-Llama-3-70B-Instruct'\n",
    "openai_api_key = 'cmsc-35360'\n",
    "openai_api_base = f\"http://{host}:{port}/v1\""
   ]
  },
  {
   "cell_type": "code",
   "execution_count": 3,
   "id": "0b40a3a4",
   "metadata": {},
   "outputs": [],
   "source": [
    "client = OpenAI(\n",
    "    api_key=openai_api_key,\n",
    "    base_url=openai_api_base,\n",
    ")"
   ]
  },
  {
   "cell_type": "code",
   "execution_count": 4,
   "id": "a1c2af72",
   "metadata": {},
   "outputs": [],
   "source": [
    "def load_data(f):\n",
    "    df=pd.read_csv(f)\n",
    "    return df"
   ]
  },
  {
   "cell_type": "code",
   "execution_count": 5,
   "id": "84b368e7-4869-4bd8-925e-daa395549f69",
   "metadata": {},
   "outputs": [],
   "source": [
    "def select_random_element_not_equal_to(array, correct):\n",
    "    '''\n",
    "    Given an array of unique answers, select an answer not equal to the correct answer.\n",
    "    '''\n",
    "    if len(array) == 0:\n",
    "        raise ValueError(\"The array is empty\")\n",
    "\n",
    "    # Filter out elements equal to `correct`\n",
    "    filtered_array = [element for element in array if element != correct]\n",
    "    \n",
    "    if not filtered_array:\n",
    "        raise ValueError(\"No valid elements to choose from\")\n",
    "\n",
    "    # Select a random element from the filtered list\n",
    "    return random.choice(filtered_array)"
   ]
  },
  {
   "cell_type": "code",
   "execution_count": 6,
   "id": "926edf4d-65bf-4de1-b415-30d4e8775ee8",
   "metadata": {},
   "outputs": [],
   "source": [
    "def remove_correct_cell_line_answers(disease, df):\n",
    "    '''\n",
    "    Returns a list of unique cell line names not associated with disease.\n",
    "    '''\n",
    "    \n",
    "    filtered = df[df['OncotreePrimaryDisease'] != disease]\n",
    "    array = filtered['CellLineName'].unique()\n",
    "    \n",
    "    # debug\n",
    "    # print(f'{df.shape}\\t{filtered.shape}')\n",
    "    # print(f'{len(array)}')\n",
    "    \n",
    "    return array"
   ]
  },
  {
   "cell_type": "code",
   "execution_count": 7,
   "id": "70546a55-6269-4c69-a75c-208ad0af1e09",
   "metadata": {},
   "outputs": [],
   "source": [
    "def construct_question(df, index):\n",
    "    '''\n",
    "    Construct a multiple choice question from df using row at index.\n",
    "    Row at index will have the correct answer.\n",
    "    The incorrect answers are randomly selected from array.\n",
    "    '''\n",
    "    if index < 0 or index >= len(df):\n",
    "        raise IndexError(\"Index out of bounds\")\n",
    "    \n",
    "    disease = df.iloc[index]['OncotreePrimaryDisease']\n",
    "    correct_answer = df.iloc[index]['CellLineName']\n",
    "    wrong_answers = remove_correct_cell_line_answers(disease, df)\n",
    "    \n",
    "    wrong_answer_1 = select_random_element_not_equal_to(wrong_answers, correct_answer)\n",
    "    wrong_answer_2 = select_random_element_not_equal_to(wrong_answers, correct_answer)\n",
    "    wrong_answer_3 = select_random_element_not_equal_to(wrong_answers, correct_answer)\n",
    "\n",
    "    while wrong_answer_1 == wrong_answer_2 or wrong_answer_1 == wrong_answer_3 or wrong_answer_2 == wrong_answer_3:\n",
    "        wrong_answer_1 = select_random_element_not_equal_to(wrong_answers, correct_answer)\n",
    "        wrong_answer_2 = select_random_element_not_equal_to(wrong_answers, correct_answer)\n",
    "        wrong_answer_3 = select_random_element_not_equal_to(wrong_answers, correct_answer)\n",
    "        \n",
    "    answers = [correct_answer,\n",
    "               wrong_answer_1,\n",
    "               wrong_answer_2,\n",
    "               wrong_answer_3]\n",
    "    random.shuffle(answers)\n",
    "\n",
    "    d = {\"a\": answers[0],\n",
    "         \"b\": answers[1],\n",
    "         \"c\": answers[2],\n",
    "         \"d\": answers[3],\n",
    "        }\n",
    "\n",
    "    for choice in d.keys():\n",
    "        if d[choice] == correct_answer:\n",
    "            correct_choice = choice\n",
    "    \n",
    "    question = f'''The primary disease {disease} can be best studied using which cell line?\n",
    "a) {d['a']}\n",
    "b) {d['b']}\n",
    "c) {d['c']}\n",
    "d) {d['d']}'''\n",
    "    \n",
    "    return question, correct_choice, correct_answer, disease\n",
    "    "
   ]
  },
  {
   "cell_type": "code",
   "execution_count": 8,
   "id": "b72ec0dd-6877-43b8-8b05-3fb030868bca",
   "metadata": {},
   "outputs": [],
   "source": [
    "def debug(index, disease, df, answer):\n",
    "    '''\n",
    "    The answer is the name of the cell line associated that can be used as a model for the disease.\n",
    "    We get all cell lines associated with that disease, and check if answer is in that list.\n",
    "    '''\n",
    "    filtered_df = df[df['OncotreePrimaryDisease'] == disease]\n",
    "    cell_line_names = filtered_df['CellLineName'].values\n",
    "    filtered_array = [element for element in cell_line_names if element == answer]\n",
    "    \n",
    "    #print(cell_line_names)\n",
    "    #print(filtered_array)\n",
    "\n",
    "    return filtered_array"
   ]
  },
  {
   "cell_type": "code",
   "execution_count": 10,
   "id": "eb54595d-5113-40f4-bfd4-1fdc7575007d",
   "metadata": {},
   "outputs": [
    {
     "name": "stderr",
     "output_type": "stream",
     "text": [
      " 98%|███████████████████████████████████████████████████████████████████████████████▌ | 1887/1921 [14:30<00:14,  2.31it/s]"
     ]
    },
    {
     "name": "stdout",
     "output_type": "stream",
     "text": [
      "The primary disease Invasive Breast Carcinoma can be best studied using which cell line?\n",
      "a) no.10\n",
      "b) NH93T\n",
      "c) ME-1\n",
      "d) NCI-H1819\n",
      "\n",
      "choice: a answer: MDA-MB-231\n",
      "correct choice: b correct answer: NH93T\n",
      "index: 1886\n",
      "wrong answer found in filtered array ['MDA-MB-231']\n",
      "Error finding unique answer: My hovercraft is full of eels\n"
     ]
    },
    {
     "name": "stderr",
     "output_type": "stream",
     "text": [
      "100%|█████████████████████████████████████████████████████████████████████████████████| 1921/1921 [14:47<00:00,  2.17it/s]\n"
     ]
    },
    {
     "name": "stdout",
     "output_type": "stream",
     "text": [
      "1458 correct responses out of 1920\n"
     ]
    },
    {
     "name": "stderr",
     "output_type": "stream",
     "text": [
      " 47%|██████████████████████████████████████▉                                           | 911/1921 [07:20<08:57,  1.88it/s]"
     ]
    },
    {
     "name": "stdout",
     "output_type": "stream",
     "text": [
      "The primary disease Mature B-Cell Neoplasms can be best studied using which cell line?\n",
      "a) BT-549\n",
      "b) HT\n",
      "c) BC-3C\n",
      "d) MONO-MAC-6\n",
      "\n",
      "choice: c answer: BC-3\n",
      "correct choice: b correct answer: HT\n",
      "index: 910\n",
      "wrong answer found in filtered array ['BC-3']\n",
      "Error finding unique answer: My hovercraft is full of eels\n"
     ]
    },
    {
     "name": "stderr",
     "output_type": "stream",
     "text": [
      " 64%|███████████████████████████████████████████████████▍                             | 1220/1921 [09:48<04:48,  2.43it/s]"
     ]
    },
    {
     "name": "stdout",
     "output_type": "stream",
     "text": [
      "The primary disease Renal Cell Carcinoma can be best studied using which cell line?\n",
      "a) JAR\n",
      "b) SW 156\n",
      "c) TEN\n",
      "d) NCI-H322M\n",
      "\n",
      "choice: c answer: 786-O\n",
      "correct choice: b correct answer: SW 156\n",
      "index: 1219\n",
      "wrong answer found in filtered array ['786-O']\n",
      "Error finding unique answer: My hovercraft is full of eels\n"
     ]
    },
    {
     "name": "stderr",
     "output_type": "stream",
     "text": [
      "100%|█████████████████████████████████████████████████████████████████████████████████| 1921/1921 [15:05<00:00,  2.12it/s]\n"
     ]
    },
    {
     "name": "stdout",
     "output_type": "stream",
     "text": [
      "1448 correct responses out of 1919\n"
     ]
    },
    {
     "name": "stderr",
     "output_type": "stream",
     "text": [
      " 98%|███████████████████████████████████████████████████████████████████████████████▏ | 1877/1921 [14:38<00:19,  2.24it/s]"
     ]
    },
    {
     "name": "stdout",
     "output_type": "stream",
     "text": [
      "The primary disease Colorectal Adenocarcinoma can be best studied using which cell line?\n",
      "a) CCLF_CORE_0002_T\n",
      "b) UWB1.289\n",
      "c) Ca Ski\n",
      "d) HTK-\n",
      "\n",
      "choice: d answer: HT-29\n",
      "correct choice: a correct answer: CCLF_CORE_0002_T\n",
      "index: 1876\n",
      "wrong answer found in filtered array ['HT-29']\n",
      "Error finding unique answer: My hovercraft is full of eels\n"
     ]
    },
    {
     "name": "stderr",
     "output_type": "stream",
     "text": [
      "100%|█████████████████████████████████████████████████████████████████████████████████| 1921/1921 [14:59<00:00,  2.13it/s]\n"
     ]
    },
    {
     "name": "stdout",
     "output_type": "stream",
     "text": [
      "1462 correct responses out of 1920\n"
     ]
    },
    {
     "name": "stderr",
     "output_type": "stream",
     "text": [
      "100%|█████████████████████████████████████████████████████████████████████████████████| 1921/1921 [13:52<00:00,  2.31it/s]\n"
     ]
    },
    {
     "name": "stdout",
     "output_type": "stream",
     "text": [
      "1437 correct responses out of 1921\n"
     ]
    },
    {
     "name": "stderr",
     "output_type": "stream",
     "text": [
      "100%|█████████████████████████████████████████████████████████████████████████████████| 1921/1921 [13:25<00:00,  2.38it/s]\n"
     ]
    },
    {
     "name": "stdout",
     "output_type": "stream",
     "text": [
      "1458 correct responses out of 1921\n"
     ]
    },
    {
     "name": "stderr",
     "output_type": "stream",
     "text": [
      "100%|█████████████████████████████████████████████████████████████████████████████████| 1921/1921 [14:19<00:00,  2.23it/s]\n"
     ]
    },
    {
     "name": "stdout",
     "output_type": "stream",
     "text": [
      "1453 correct responses out of 1921\n"
     ]
    },
    {
     "name": "stderr",
     "output_type": "stream",
     "text": [
      " 52%|██████████████████████████████████████████▍                                       | 995/1921 [07:02<06:21,  2.43it/s]"
     ]
    },
    {
     "name": "stdout",
     "output_type": "stream",
     "text": [
      "The primary disease Colorectal Adenocarcinoma can be best studied using which cell line?\n",
      "a) HTK-\n",
      "b) CW-2\n",
      "c) HDQ-P1\n",
      "d) LC-1-sq\n",
      "\n",
      "choice: a answer: HT-29\n",
      "correct choice: b correct answer: CW-2\n",
      "index: 994\n",
      "wrong answer found in filtered array ['HT-29']\n",
      "Error finding unique answer: My hovercraft is full of eels\n"
     ]
    },
    {
     "name": "stderr",
     "output_type": "stream",
     "text": [
      " 53%|██████████████████████████████████████████▉                                      | 1018/1921 [07:12<06:30,  2.31it/s]"
     ]
    },
    {
     "name": "stdout",
     "output_type": "stream",
     "text": [
      "The primary disease Embryonal Tumor can be best studied using which cell line?\n",
      "a) HOP-62\n",
      "b) CHSA0108\n",
      "c) HOKUG\n",
      "d) CHLA-57\n",
      "\n",
      "choice: b answer: CHLA-266\n",
      "correct choice: d correct answer: CHLA-57\n",
      "index: 1017\n",
      "wrong answer found in filtered array ['CHLA-266']\n",
      "Error finding unique answer: My hovercraft is full of eels\n"
     ]
    },
    {
     "name": "stderr",
     "output_type": "stream",
     "text": [
      "100%|█████████████████████████████████████████████████████████████████████████████████| 1921/1921 [13:29<00:00,  2.37it/s]\n"
     ]
    },
    {
     "name": "stdout",
     "output_type": "stream",
     "text": [
      "1434 correct responses out of 1919\n"
     ]
    },
    {
     "name": "stderr",
     "output_type": "stream",
     "text": [
      "100%|█████████████████████████████████████████████████████████████████████████████████| 1921/1921 [13:25<00:00,  2.38it/s]\n"
     ]
    },
    {
     "name": "stdout",
     "output_type": "stream",
     "text": [
      "1474 correct responses out of 1921\n"
     ]
    },
    {
     "name": "stderr",
     "output_type": "stream",
     "text": [
      " 51%|██████████████████████████████████████████                                        | 986/1921 [06:53<06:14,  2.50it/s]"
     ]
    },
    {
     "name": "stdout",
     "output_type": "stream",
     "text": [
      "The primary disease Colorectal Adenocarcinoma can be best studied using which cell line?\n",
      "a) SNU-175\n",
      "b) ABM-T0781\n",
      "c) Hs 863.T\n",
      "d) HTK-\n",
      "\n",
      "choice: d answer: HT-29\n",
      "correct choice: a correct answer: SNU-175\n",
      "index: 985\n",
      "wrong answer found in filtered array ['HT-29']\n",
      "Error finding unique answer: My hovercraft is full of eels\n"
     ]
    },
    {
     "name": "stderr",
     "output_type": "stream",
     "text": [
      " 55%|████████████████████████████████████████████▏                                    | 1049/1921 [07:19<05:53,  2.47it/s]"
     ]
    },
    {
     "name": "stdout",
     "output_type": "stream",
     "text": [
      "The primary disease Pancreatic Adenocarcinoma can be best studied using which cell line?\n",
      "a) GR-M\n",
      "b) RCC-JF\n",
      "c) RH-41\n",
      "d) A673STAG2KO16\n",
      "\n",
      "choice: c answer: PANC-1\n",
      "correct choice: a correct answer: GR-M\n",
      "index: 1048\n",
      "wrong answer found in filtered array ['PANC-1']\n",
      "Error finding unique answer: My hovercraft is full of eels\n"
     ]
    },
    {
     "name": "stderr",
     "output_type": "stream",
     "text": [
      " 74%|████████████████████████████████████████████████████████████▏                    | 1426/1921 [09:59<09:58,  1.21s/it]"
     ]
    },
    {
     "name": "stdout",
     "output_type": "stream",
     "text": [
      "Error decoding JSON: Extra data: line 3 column 1 (char 51)\n",
      "The primary disease Breast Neoplasm, NOS can be best studied using which cell line?\n",
      "a) UM-UC-16\n",
      "b) COLO 824\n",
      "c) OVCA420\n",
      "d) NCI-H196\n",
      "{\"CHOICE\": \"None\", \"ANSWER\": \"None of the above\"}\n",
      "\n",
      "The correct answer is not among the options provided. Breast Neoplasm, NOS (Not Otherwise Specified) is a type of breast cancer, and the cell lines provided are not specific to breast cancer. \n",
      "\n",
      "UM-UC-16 is a bladder cancer cell line, COLO 824 is a colon cancer cell line, OVCA420 is an ovarian cancer cell line, and NCI-H196 is a lung cancer cell line. A more suitable cell line for studying breast cancer would be MCF-7, MDA-MB-231, or SK-BR-3, among others.\n"
     ]
    },
    {
     "name": "stderr",
     "output_type": "stream",
     "text": [
      "100%|█████████████████████████████████████████████████████████████████████████████████| 1921/1921 [13:29<00:00,  2.37it/s]"
     ]
    },
    {
     "name": "stdout",
     "output_type": "stream",
     "text": [
      "1456 correct responses out of 1918\n"
     ]
    },
    {
     "name": "stderr",
     "output_type": "stream",
     "text": [
      "\n"
     ]
    }
   ],
   "source": [
    "import json\n",
    "from tqdm import tqdm\n",
    "from datetime import datetime\n",
    "\n",
    "df = load_data(infile)\n",
    "\n",
    "\n",
    "sys_reg_prompt = '''You are a cancer research scientist studying the potential effects of various small molecules, peptides, and \n",
    "antibiodies on tumor cell growth. You will be presented with a series of multiple choice questions. Please select the correct\n",
    "choice. Return the answer in json format {\"CHOICE\": choice, \"ANSWER\": answer} where choice is only the alphabetic character \n",
    "associated with the full answer.'''\n",
    "\n",
    "# This is not working yet because the experts talk to each other thus making the\n",
    "# parsing of the final answer different from the sys_reg_prompt.\n",
    "sys_tot_prompt = '''Imagine three experts are answering this question.\n",
    "They will brainstorm the answer step by step, reasoning carefully and taking all facts into consideration.\n",
    "All experts will write down one step of their thinking, then share it with the group.\n",
    "They will each critique their response and all the responses of others.\n",
    "They will check their answer based on science, laws of physics and logic.\n",
    "Then all experts will go on to the next step and write down this step of their thinking.\n",
    "They will keep going through steps until they reach their conclusions taking into account the thoughts of the other experts.\n",
    "If at anytime they realize that there is a flaw in their logic they will backtrack to where the flaw occurred.\n",
    "If any expert realizes they are wrong at any point they acknowledge this and start another train of thought.\n",
    "Each expert will assign a likelihood of their current assertion being correct.\n",
    "Continue until the experts agree on the single most likely choice. Return the response in json format FINAL_ANSWER={\"DISCUSSION\": discussion, \"CHOICE\": choice, \"ANSWER\": answer} where choice is only the alphabetic character \n",
    "associated with the full answer.'''\n",
    " \n",
    "for i in range(0, 9): # 9):\n",
    "    num_correct = 0\n",
    "    total = 0\n",
    "    responses = []\n",
    "\n",
    "\n",
    "    for i in tqdm( range(df.shape[0]) ):\n",
    "        # get question, correct choice and answer\n",
    "        question, correct_choice, correct_answer, disease = construct_question(df, i)\n",
    "\n",
    "        # For debugging.\n",
    "        #print(f'{question}')\n",
    "        #print(f'The correct choice is {correct_choice}. {correct_answer}')\n",
    "        #print(f'The df row has {df.iloc[i][\"OncotreePrimaryDisease\"]} {df.iloc[i][\"CellLineName\"]}')\n",
    "    \n",
    "        # construct message\n",
    "        messages=[\n",
    "            {\"role\": \"system\", \n",
    "             \"content\": sys_reg_prompt\n",
    "            },\n",
    "            {\"role\": \"user\",\n",
    "             \"content\": question\n",
    "            }\n",
    "        ]\n",
    "    \n",
    "        chat_response = client.chat.completions.create(\n",
    "            model=model,\n",
    "            # logprobs=1,\n",
    "            # top_logprobs=1,\n",
    "            messages=messages,\n",
    "            temperature=0.0,\n",
    "            max_tokens=2560,\n",
    "        )\n",
    "        \n",
    "        \n",
    "        try:\n",
    "            response = json.loads(chat_response.choices[0].message.content)\n",
    "            response['CORRECT CHOICE'] = correct_choice\n",
    "            response['CORRECT ANSWER'] = correct_answer\n",
    "            response['PRIMARY_DISEASE'] = disease\n",
    "    \n",
    "            if response['CHOICE'] == correct_choice:\n",
    "                response['SCORE'] = 1\n",
    "                num_correct = num_correct + 1\n",
    "            else:\n",
    "                response['SCORE'] = 0\n",
    "                filtered_array = debug(i, disease, df, response[\"ANSWER\"])\n",
    "                if len(filtered_array) > 0:\n",
    "                    print(f'{question}\\n')\n",
    "                    print(f'choice: {response[\"CHOICE\"]} answer: {response[\"ANSWER\"]}')\n",
    "                    print(f'correct choice: {response[\"CORRECT CHOICE\"]} correct answer: {response[\"CORRECT ANSWER\"]}')\n",
    "                    print(f'index: {i}')\n",
    "                    print(f'wrong answer found in filtered array {filtered_array}')\n",
    "\n",
    "                    class MyException(Exception):\n",
    "                        pass\n",
    "                    raise MyException(\"My hovercraft is full of eels\")\n",
    "\n",
    "            total = total + 1\n",
    "            responses.append(response)\n",
    "            #print(f'{response}') \n",
    "\n",
    "        except json.JSONDecodeError as e:\n",
    "            print(f\"Error decoding JSON: {e}\")\n",
    "            print(f\"{question}\")\n",
    "            print(f\"{chat_response.choices[0].message.content}\")\n",
    "\n",
    "            response[\"CHOICE\"] =  \"e\"\n",
    "            response[\"ANSWER\"] =  chat_response.choices[0].message.content\n",
    "            response['CORRECT CHOICE'] = correct_choice\n",
    "            response['CORRECT ANSWER'] = correct_answer\n",
    "            response['PRIMARY_DISEASE'] = disease\n",
    "            response['SCORE'] = 0\n",
    "            \n",
    "            responses.append(response)\n",
    "            pass\n",
    "            \n",
    "        except MyException as e:\n",
    "            print(f\"Error finding unique answer: {e}\")\n",
    "            pass\n",
    "    \n",
    "    print(f'{num_correct} correct responses out of {total}')\n",
    "    timestamp = datetime.now().strftime(\"%Y%m%d%H%M%S\")\n",
    "\n",
    "    response_df = pd.DataFrame(responses)\n",
    "    response_df.to_csv(f'disease_eval_{timestamp}.tsv', index=None, sep=\"\\t\")\n",
    "\n",
    "    with open('disease_eval_summary.txt', 'a') as f:\n",
    "        print(f'{timestamp}\\t{num_correct} correct responses out of {total}', file=f)"
   ]
  },
  {
   "cell_type": "code",
   "execution_count": null,
   "id": "426a68dc-254e-42e8-a665-7aed86ae2786",
   "metadata": {},
   "outputs": [],
   "source": []
  }
 ],
 "metadata": {
  "kernelspec": {
   "display_name": "Python 3 (ipykernel)",
   "language": "python",
   "name": "python3"
  },
  "language_info": {
   "codemirror_mode": {
    "name": "ipython",
    "version": 3
   },
   "file_extension": ".py",
   "mimetype": "text/x-python",
   "name": "python",
   "nbconvert_exporter": "python",
   "pygments_lexer": "ipython3",
   "version": "3.9.18"
  }
 },
 "nbformat": 4,
 "nbformat_minor": 5
}
