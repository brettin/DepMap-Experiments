{
 "cells": [
  {
   "cell_type": "raw",
   "metadata": {},
   "source": [
    "Entrez Database\tUID common name\tE-utility Database Name\n",
    "BioProject\tBioProject ID\tbioproject\n",
    "BioSample\tBioSample ID\tbiosample\n",
    "Books\tBook ID\tbooks\n",
    "Conserved Domains\tPSSM-ID\tcdd\n",
    "dbGaP\tdbGaP ID\tgap\n",
    "dbVar\tdbVar ID\tdbvar\n",
    "Gene\tGene ID\tgene\n",
    "Genome\tGenome ID\tgenome\n",
    "GEO Datasets\tGDS ID\tgds\n",
    "GEO Profiles\tGEO ID\tgeoprofiles\n",
    "HomoloGene\tHomoloGene ID\thomologene\n",
    "MeSH\tMeSH ID\tmesh\n",
    "NCBI C++ Toolkit\tToolkit ID\ttoolkit\n",
    "NLM Catalog\tNLM Catalog ID\tnlmcatalog\n",
    "Nucleotide\tGI number\tnuccore\n",
    "PopSet\tPopSet ID\tpopset\n",
    "Probe\tProbe ID\tprobe\n",
    "Protein\tGI number\tprotein\n",
    "Protein Clusters\tProtein Cluster ID\tproteinclusters\n",
    "PubChem BioAssay\tAID\tpcassay\n",
    "PubChem Compound\tCID\tpccompound\n",
    "PubChem Substance\tSID\tpcsubstance\n",
    "PubMed\tPMID\tpubmed\n",
    "PubMed Central\tPMCID\tpmc\n",
    "SNP\trs number\tsnp\n",
    "SRA\tSRA ID\tsra\n",
    "Structure\tMMDB-ID\tstructure\n",
    "Taxonomy\tTaxID\ttaxonomy\n",
    "\n",
    "The basic idea is to query pmc for full text articles relating to terms in the DepMap Models.csv file and download those."
   ]
  },
  {
   "cell_type": "code",
   "execution_count": 2,
   "metadata": {},
   "outputs": [],
   "source": [
    "import pandas as pd\n",
    "import time\n",
    "import datetime\n",
    "import requests\n",
    "import json\n",
    "import subprocess"
   ]
  },
  {
   "cell_type": "code",
   "execution_count": 3,
   "metadata": {},
   "outputs": [],
   "source": [
    "# Make a GET request for each term to get a list of pmc ids for a given search term\n",
    "# https://www.ncbi.nlm.nih.gov/pmc/?term=open%20access%5Bfilter%5D\n",
    "def get_pmcids(term):\n",
    "    url = f'https://eutils.ncbi.nlm.nih.gov/entrez/eutils/esearch.fcgi?'\n",
    "    url = url + f'db=pmc&term={term}+AND+free+fulltext%5bfilter%5d&retmode=json'\n",
    "\n",
    "    response = requests.get(url, ) #headers=headers, data=data)\n",
    "\n",
    "    # Check if the request was successful (status code 200)\n",
    "    if response.status_code == 200:\n",
    "        # Print the response\n",
    "        json_response = response.json()\n",
    "        arr = json_response['esearchresult']['idlist']\n",
    "    \n",
    "    else:\n",
    "        # Print the error message\n",
    "        print(f\"Error: {response.status_code} - {response.text}\")\n",
    "        arr = []\n",
    "        \n",
    "    return arr"
   ]
  },
  {
   "cell_type": "code",
   "execution_count": 4,
   "metadata": {},
   "outputs": [],
   "source": [
    "def get_pdf(pmcid):\n",
    "    PMCLink=\"http://www.ncbi.nlm.nih.gov/pmc/articles/\"\n",
    "    #user_agent = \"Mozilla/5.0 (Windows NT 5.2; rv:2.0.1) Gecko/20100101 Firefox/4.0.1\"\n",
    "\n",
    "    pdf_url = PMCLink + pmcid + '/pdf/'\n",
    "    print (pdf_url)\n",
    "    response = requests.get(pdf_url, ) #headers={'User-Agent': user_agent})\n",
    "\n",
    "    wget_command = [f'/usr/local/bin/wget',\n",
    "           f'--user-agent=\"Mozilla/5.0 (Windows NT 5.2; rv:2.0.1) Gecko/20100101 Firefox/4.0.1\"',\n",
    "           f'-l1',\n",
    "           f'--no-parent',\n",
    "           f'-A.pdf', \n",
    "           f'-O{pmcid}.pdf',\n",
    "           pdf_url,\n",
    "           # '2>/dev/null'\n",
    "          ]\n",
    "    # Execute the wget command\n",
    "    try:\n",
    "        subprocess.run(wget_command, check=True, ) #stderr=subprocess.DEVNULL)\n",
    "        print(f\"{pmcid} PDF downloaded successfully!\")\n",
    "    except subprocess.CalledProcessError as e:\n",
    "        print(\" \".join(wget_command), \"failed\")\n",
    "        print(f\"Failed to download {pmcid} PDF. Error: {e}\")\n",
    "        \n",
    "    return"
   ]
  },
  {
   "cell_type": "code",
   "execution_count": 5,
   "metadata": {},
   "outputs": [],
   "source": [
    "F=\"depmap/Model.csv.gz\"\n",
    "df=pd.read_csv(F)"
   ]
  },
  {
   "cell_type": "code",
   "execution_count": 8,
   "metadata": {},
   "outputs": [
    {
     "name": "stdout",
     "output_type": "stream",
     "text": [
      "http://www.ncbi.nlm.nih.gov/pmc/articles/11073418/pdf/\n",
      "11073418 PDF downloaded successfully!\n",
      "http://www.ncbi.nlm.nih.gov/pmc/articles/11062918/pdf/\n",
      "11062918 PDF downloaded successfully!\n",
      "http://www.ncbi.nlm.nih.gov/pmc/articles/11038523/pdf/\n",
      "11038523 PDF downloaded successfully!\n",
      "http://www.ncbi.nlm.nih.gov/pmc/articles/11038245/pdf/\n",
      "11038245 PDF downloaded successfully!\n",
      "http://www.ncbi.nlm.nih.gov/pmc/articles/11031052/pdf/\n",
      "11031052 PDF downloaded successfully!\n",
      "http://www.ncbi.nlm.nih.gov/pmc/articles/11030086/pdf/\n",
      "11030086 PDF downloaded successfully!\n",
      "http://www.ncbi.nlm.nih.gov/pmc/articles/11029159/pdf/\n",
      "11029159 PDF downloaded successfully!\n",
      "http://www.ncbi.nlm.nih.gov/pmc/articles/11018308/pdf/\n",
      "11018308 PDF downloaded successfully!\n",
      "http://www.ncbi.nlm.nih.gov/pmc/articles/11012648/pdf/\n",
      "11012648 PDF downloaded successfully!\n",
      "http://www.ncbi.nlm.nih.gov/pmc/articles/10969092/pdf/\n",
      "10969092 PDF downloaded successfully!\n",
      "http://www.ncbi.nlm.nih.gov/pmc/articles/10960176/pdf/\n",
      "10960176 PDF downloaded successfully!\n",
      "http://www.ncbi.nlm.nih.gov/pmc/articles/10903241/pdf/\n",
      "10903241 PDF downloaded successfully!\n",
      "http://www.ncbi.nlm.nih.gov/pmc/articles/10910246/pdf/\n",
      "10910246 PDF downloaded successfully!\n",
      "http://www.ncbi.nlm.nih.gov/pmc/articles/10907621/pdf/\n",
      "10907621 PDF downloaded successfully!\n",
      "http://www.ncbi.nlm.nih.gov/pmc/articles/10886416/pdf/\n",
      "10886416 PDF downloaded successfully!\n",
      "http://www.ncbi.nlm.nih.gov/pmc/articles/10855983/pdf/\n",
      "10855983 PDF downloaded successfully!\n",
      "http://www.ncbi.nlm.nih.gov/pmc/articles/10852540/pdf/\n",
      "10852540 PDF downloaded successfully!\n",
      "http://www.ncbi.nlm.nih.gov/pmc/articles/11055995/pdf/\n",
      "11055995 PDF downloaded successfully!\n",
      "http://www.ncbi.nlm.nih.gov/pmc/articles/11029901/pdf/\n",
      "11029901 PDF downloaded successfully!\n",
      "http://www.ncbi.nlm.nih.gov/pmc/articles/11028920/pdf/\n",
      "11028920 PDF downloaded successfully!\n"
     ]
    }
   ],
   "source": [
    "'''\n",
    "# This is the main routine.\n",
    "# \n",
    "# It reads a value from a pandas column\n",
    "# and uses that to query for pubmed central ids,\n",
    "# and loop over the array of pmc ids getting pdfs.\n",
    "#\n",
    "# The query to pubmed central is filtered for\n",
    "# free and full text.\n",
    "'''\n",
    "\n",
    "start = datetime.datetime.now()\n",
    "for term in df['CellLineName']:\n",
    "    pmcids = get_pmcids(term)\n",
    "    for pmcid in pmcids:\n",
    "        get_pdf(pmcid)\n",
    "        time.sleep(1)\n",
    "    break\n",
    "stop = datetime.datetime.now()  "
   ]
  },
  {
   "cell_type": "code",
   "execution_count": 9,
   "metadata": {
    "scrolled": true
   },
   "outputs": [
    {
     "name": "stdout",
     "output_type": "stream",
     "text": [
      "2024-05-08 09:07:01.204327\n",
      "2024-05-08 09:10:03.192171\n",
      "0:03:01.987844\n"
     ]
    }
   ],
   "source": [
    "print(start)\n",
    "print(stop)\n",
    "print(stop-start)"
   ]
  },
  {
   "cell_type": "code",
   "execution_count": 10,
   "metadata": {},
   "outputs": [
    {
     "data": {
      "text/plain": [
       "50.0"
      ]
     },
     "execution_count": 10,
     "metadata": {},
     "output_type": "execute_result"
    }
   ],
   "source": [
    "1000*3/60"
   ]
  }
 ],
 "metadata": {
  "kernelspec": {
   "display_name": "Python 3 (ipykernel)",
   "language": "python",
   "name": "python3"
  },
  "language_info": {
   "codemirror_mode": {
    "name": "ipython",
    "version": 3
   },
   "file_extension": ".py",
   "mimetype": "text/x-python",
   "name": "python",
   "nbconvert_exporter": "python",
   "pygments_lexer": "ipython3",
   "version": "3.12.0"
  }
 },
 "nbformat": 4,
 "nbformat_minor": 4
}
