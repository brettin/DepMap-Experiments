{
 "cells": [
  {
   "cell_type": "code",
   "execution_count": 1,
   "id": "974ed0e0-36a0-490a-b217-fe60a7422f5b",
   "metadata": {},
   "outputs": [],
   "source": [
    "# Arguments\n",
    "f='./depmap/Model.csv.gz'\n",
    "host='127.0.0.1'\n",
    "port='9999'\n",
    "model='meta-llama/Meta-Llama-3-70B-Instruct'"
   ]
  },
  {
   "cell_type": "code",
   "execution_count": 2,
   "id": "0b40a3a4",
   "metadata": {},
   "outputs": [],
   "source": [
    "from openai import OpenAI\n",
    "\n",
    "# Set OpenAI's API key and API base to use vLLM's API server.\n",
    "openai_api_key = 'cmsc-35360'\n",
    "openai_api_base = f\"http://{host}:{port}/v1\"\n",
    "\n",
    "client = OpenAI(\n",
    "    api_key=openai_api_key,\n",
    "    base_url=openai_api_base,\n",
    ")"
   ]
  },
  {
   "cell_type": "code",
   "execution_count": 3,
   "id": "a1c2af72",
   "metadata": {},
   "outputs": [],
   "source": [
    "import pandas as pd\n",
    "\n",
    "def load_data(f):\n",
    "    df=pd.read_csv(f)\n",
    "    print(f'done importing dataframe (rows, columns) = {df.shape}.')\n",
    "    return df"
   ]
  },
  {
   "cell_type": "code",
   "execution_count": 4,
   "id": "84b368e7-4869-4bd8-925e-daa395549f69",
   "metadata": {},
   "outputs": [],
   "source": [
    "import random\n",
    "\n",
    "def select_random_element_not_equal_to(array, correct):\n",
    "    '''\n",
    "    Given an array of unique answers, select an answer not\n",
    "    equal to the correct answer.\n",
    "    '''\n",
    "    if len(array) == 0:\n",
    "        raise ValueError(\"The array is empty\")\n",
    "\n",
    "    # Filter out elements equal to `correct`\n",
    "    filtered_array = [element for element in array if element != correct]\n",
    "    \n",
    "    if not filtered_array:\n",
    "        raise ValueError(\"No valid elements to choose from\")\n",
    "\n",
    "    # Select a random element from the filtered list\n",
    "    return random.choice(filtered_array)"
   ]
  },
  {
   "cell_type": "code",
   "execution_count": 5,
   "id": "70546a55-6269-4c69-a75c-208ad0af1e09",
   "metadata": {},
   "outputs": [],
   "source": [
    "def construct_question(df, index):\n",
    "    '''\n",
    "    Construct a multiple choice question from df using row at index.\n",
    "    '''\n",
    "    if index < 0 or index >= len(df):\n",
    "        raise IndexError(\"Index out of bounds\")\n",
    "    \n",
    "    cell_line_name = df.iloc[index]['CellLineName']\n",
    "    correct_answer = df.iloc[index]['OncotreePrimaryDisease']\n",
    "\n",
    "    wrong_answer_1 = select_random_element_not_equal_to(array, correct_answer)\n",
    "    wrong_answer_2 = select_random_element_not_equal_to(array, correct_answer)\n",
    "    wrong_answer_3 = select_random_element_not_equal_to(array, correct_answer)\n",
    "\n",
    "    while wrong_answer_1 == wrong_answer_2 or wrong_answer_1 == wrong_answer_3 or wrong_answer_2 == wrong_answer_3:\n",
    "        wrong_answer_1 = select_random_element_not_equal_to(array, correct_answer)\n",
    "        wrong_answer_2 = select_random_element_not_equal_to(array, correct_answer)\n",
    "        wrong_answer_3 = select_random_element_not_equal_to(array, correct_answer)\n",
    "        \n",
    "    answers = [correct_answer,\n",
    "               wrong_answer_1,\n",
    "               wrong_answer_2,\n",
    "               wrong_answer_3]\n",
    "    random.shuffle(answers)\n",
    "\n",
    "    d = {\"a\": answers[0],\n",
    "         \"b\": answers[1],\n",
    "         \"c\": answers[2],\n",
    "         \"d\": answers[3],\n",
    "        }\n",
    "\n",
    "    for choice in d.keys():\n",
    "        if d[choice] == correct_answer:\n",
    "            correct_choice = choice\n",
    "    \n",
    "    # question = f'''The tumor cell line named {cell_line_name} is\n",
    "    question = f'''The tumor cell line named {cell_line_name} is a biological model for which primary disease?\n",
    "    \n",
    "a) {d['a']},\n",
    "b) {d['b']},\n",
    "c) {d['c']},\n",
    "d) {d['d']}.'''\n",
    "    \n",
    "    return question, correct_choice, correct_answer"
   ]
  },
  {
   "cell_type": "code",
   "execution_count": 6,
   "id": "eb54595d-5113-40f4-bfd4-1fdc7575007d",
   "metadata": {},
   "outputs": [
    {
     "name": "stdout",
     "output_type": "stream",
     "text": [
      "done importing dataframe (rows, columns) = (1921, 36).\n"
     ]
    },
    {
     "name": "stderr",
     "output_type": "stream",
     "text": [
      "100%|███████████████████████████████████████| 1921/1921 [15:59<00:00,  2.00it/s]"
     ]
    },
    {
     "name": "stdout",
     "output_type": "stream",
     "text": [
      "1395 correct responses out of 1921\n"
     ]
    },
    {
     "name": "stderr",
     "output_type": "stream",
     "text": [
      "\n"
     ]
    }
   ],
   "source": [
    "import json\n",
    "from tqdm import tqdm\n",
    "\n",
    "df = load_data(f)\n",
    "array = df['OncotreePrimaryDisease'].unique()\n",
    "num_correct = 0\n",
    "total = 0\n",
    "responses = []\n",
    "\n",
    "\n",
    "reg_prompt = '''You are a cancer research scientist studying the potential effects of various small molecules, peptides, and \n",
    "antibiodies on tumor cell growth. You will be presented with a series of multiple choice questions. Please select the correct\n",
    "choice. Return the answer in json format {\"CHOICE\": choice, \"ANSWER\": answer} where choice is only the alphabetic character \n",
    "associated with the full answer.'''\n",
    "\n",
    "tot_prompt = '''Imagine three experts are answering this question.\n",
    "They will brainstorm the answer step by step, reasoning carefully and taking all facts into consideration.\n",
    "All experts will write down one step of their thinking, then share it with the group.\n",
    "They will each critique their response and all the responses of others.\n",
    "They will check their answer based on science, laws of physics and logic.\n",
    "Then all experts will go on to the next step and write down this step of their thinking.\n",
    "They will keep going through steps until they reach their conclusions taking into account the thoughts of the other experts.\n",
    "If at anytime they realize that there is a flaw in their logic they will backtrack to where the flaw occurred.\n",
    "If any expert realizes they are wrong at any point they acknowledge this and start another train of thought.\n",
    "Each expert will assign a likelihood of their current assertion being correct.\n",
    "Continue until the experts agree on the single most likely choice. Return the response in json format FINAL_ANSWER={\"DISCUSSION\": discussion, \"CHOICE\": choice, \"ANSWER\": answer} where choice is only the alphabetic character \n",
    "associated with the full answer.'''\n",
    "\n",
    "\n",
    "import re\n",
    "import json\n",
    "\n",
    "def extract_json(text):\n",
    "    # Regex to find the pattern FINAL_ANSWER={...}\n",
    "    # Example usage\n",
    "    # text = \"Some text FINAL_ANSWER={\\\"key\\\": \\\"value\\\", \\\"number\\\": 123} and more text\"\n",
    "    # json_data = extract_json(text)\n",
    "    # if json_data:\n",
    "    #     print(json_data)\n",
    "    match = re.search(r'FINAL_ANSWER=\\{.*?\\}', text)\n",
    "    if match:\n",
    "        # Extract the matched text and trim \"FINAL_ANSWER=\"\n",
    "        json_str = match.group(0)[13:]\n",
    "        try:\n",
    "            # Parse the JSON string into a Python dictionary\n",
    "            json_data = json.loads(json_str)\n",
    "            # return json_data\n",
    "            return json_str\n",
    "        except json.JSONDecodeError:\n",
    "            print(\"Error decoding JSON\")\n",
    "    else:\n",
    "        print(\"No JSON data found\")\n",
    "\n",
    "\n",
    "\n",
    " \n",
    "\n",
    "for i in tqdm( range(df.shape[0]) ):\n",
    "    # get question, correct choice and answer\n",
    "    question, correct_choice, correct_answer = construct_question(df, i)\n",
    "\n",
    "    # construct message\n",
    "    messages=[\n",
    "        {\"role\": \"system\", \n",
    "         \"content\": reg_prompt\n",
    "        },\n",
    "        {\"role\": \"user\",\n",
    "         \"content\": question\n",
    "        }\n",
    "    ]\n",
    "\n",
    "    chat_response = client.chat.completions.create(\n",
    "        model=model,\n",
    "        # logprobs=1,\n",
    "        # top_logprobs=1,\n",
    "        messages=messages,\n",
    "        temperature=0.0,\n",
    "        max_tokens=2560,\n",
    "    )\n",
    "    \n",
    "    \n",
    "    try:\n",
    "        response = json.loads(chat_response.choices[0].message.content)\n",
    "        response['CORRECT CHOICE'] = correct_choice\n",
    "        response['CORRECT ANSWER'] = correct_answer\n",
    "\n",
    "        if response['CHOICE'] == correct_choice:\n",
    "            response['SCORE'] = 1\n",
    "            num_correct = num_correct + 1\n",
    "        else:\n",
    "            response['SCORE'] = 0\n",
    "            #    decoded_question= question.encode('utf-8').decode('unicode_escape')\n",
    "            #    print(decoded_question)\n",
    "            #    print(f'CORRECT ANSWER: {correct_choice}) {correct_answer}')\n",
    "            #    print(\"Chat response:    \", chat_response.choices[0].message.content, \"\\n\")\n",
    "\n",
    "        total = total + 1\n",
    "        responses.append(response)\n",
    "        # print(response)\n",
    "\n",
    "\n",
    "    except json.JSONDecodeError as e:\n",
    "        print(f\"Error decoding JSON: {e}\")\n",
    "        print(f\"{chat_response.choices[0].message.content}\")\n",
    "\n",
    "print(f'{num_correct} correct responses out of {total}')"
   ]
  },
  {
   "cell_type": "code",
   "execution_count": 7,
   "id": "bfbf86a6-b418-4ea9-b1aa-83b700d5b900",
   "metadata": {},
   "outputs": [
    {
     "name": "stdout",
     "output_type": "stream",
     "text": [
      "The tumor cell line named ABM-T9430 is a biological model for which primary disease?\n",
      "    \n",
      "a) Non-Cancerous,\n",
      "b) Merkel Cell Carcinoma,\n",
      "c) Cutaneous Squamous Cell Carcinoma,\n",
      "d) Renal Cell Carcinoma.\n",
      "\n",
      "CORRECT ANSWER: a) Non-Cancerous\n",
      "\n",
      "Chat response:     {\"CHOICE\": \"b\", \"ANSWER\": \"Merkel Cell Carcinoma\"} \n",
      "\n"
     ]
    }
   ],
   "source": [
    "decoded_question= question.encode('utf-8').decode('unicode_escape')\n",
    "print(decoded_question)\n",
    "print(f'\\nCORRECT ANSWER: {correct_choice}) {correct_answer}')\n",
    "print('\\nChat response:    ', chat_response.choices[0].message.content, '\\n')\n"
   ]
  },
  {
   "cell_type": "code",
   "execution_count": 8,
   "id": "98cba389-1202-48e1-96cf-a785b199eb60",
   "metadata": {},
   "outputs": [
    {
     "data": {
      "text/plain": [
       "{'CHOICE': 'b',\n",
       " 'ANSWER': 'Merkel Cell Carcinoma',\n",
       " 'CORRECT CHOICE': 'a',\n",
       " 'CORRECT ANSWER': 'Non-Cancerous',\n",
       " 'SCORE': 0}"
      ]
     },
     "execution_count": 8,
     "metadata": {},
     "output_type": "execute_result"
    }
   ],
   "source": [
    "responses[len(responses) -1]"
   ]
  },
  {
   "cell_type": "code",
   "execution_count": 9,
   "id": "8d4523c5-3e8b-4400-b07e-48c6034a9fd8",
   "metadata": {},
   "outputs": [],
   "source": [
    "response_df = pd.DataFrame(responses)\n",
    "response_df.to_csv('model_name_eval.tsv', index=None, sep=\"\\t\")"
   ]
  },
  {
   "cell_type": "code",
   "execution_count": 10,
   "id": "6bfe138b-47f5-473c-a34d-e68aed6afdf4",
   "metadata": {},
   "outputs": [
    {
     "name": "stdout",
     "output_type": "stream",
     "text": [
      "count    131.000000\n",
      "mean       0.114504\n",
      "std        0.319645\n",
      "min        0.000000\n",
      "25%        0.000000\n",
      "50%        0.000000\n",
      "75%        0.000000\n",
      "max        1.000000\n",
      "Name: SCORE, dtype: float64\n",
      "sum:  15\n"
     ]
    }
   ],
   "source": [
    "print(response_df[response_df['CORRECT ANSWER'] == 'Non-Cancerous']['SCORE'].describe())\n",
    "print('sum: ', response_df[response_df['CORRECT ANSWER'] == 'Non-Cancerous']['SCORE'].sum())\n"
   ]
  },
  {
   "cell_type": "code",
   "execution_count": null,
   "id": "34b6aa01-423e-4ba3-beb0-2e80e371ebb4",
   "metadata": {},
   "outputs": [],
   "source": [
    "'''\n",
    "import sys\n",
    "sys.path.append('/rbscratch/brettin/DepMap-Experiments/tool_collection/agents')\n",
    "from ARGO import ArgoWrapper, ArgoEmbeddingWrapper\n",
    "from CustomLLM import ARGO_LLM, ARGO_EMBEDDING\n",
    "argo_wrapper_instance = ArgoWrapper()\n",
    "llm = ARGO_LLM(argo=argo_wrapper_instance,model_type='gpt4', temperature = 0.5)\n",
    "argo_response = llm.invoke(input=messages)\n",
    "print(argo_response)\n",
    "'''"
   ]
  },
  {
   "cell_type": "code",
   "execution_count": null,
   "id": "b80e0066-0e1b-44ab-aca5-fec972221855",
   "metadata": {},
   "outputs": [],
   "source": []
  }
 ],
 "metadata": {
  "kernelspec": {
   "display_name": "Python 3 (ipykernel)",
   "language": "python",
   "name": "python3"
  },
  "language_info": {
   "codemirror_mode": {
    "name": "ipython",
    "version": 3
   },
   "file_extension": ".py",
   "mimetype": "text/x-python",
   "name": "python",
   "nbconvert_exporter": "python",
   "pygments_lexer": "ipython3",
   "version": "3.9.18"
  }
 },
 "nbformat": 4,
 "nbformat_minor": 5
}
