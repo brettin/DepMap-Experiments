{
 "cells": [
  {
   "cell_type": "code",
   "execution_count": 3,
   "id": "453a3ab6",
   "metadata": {},
   "outputs": [
    {
     "name": "stdout",
     "output_type": "stream",
     "text": [
      "model: meta-llama/Meta-Llama-3.1-70B-Instruct\n"
     ]
    }
   ],
   "source": [
    "from vllm import LLM, SamplingParams\n",
    "from openai import OpenAI\n",
    "\n",
    "# Modify OpenAI's API key and API base to use vLLM's API server.\n",
    "openai_api_key = \"EMPTY\"\n",
    "openai_api_key = \"cmsc-35360\"\n",
    "openai_api_base = \"http://localhost:9999/v1\"\n",
    "\n",
    "client = OpenAI(\n",
    "    # defaults to os.environ.get(\"OPENAI_API_KEY\")\n",
    "    api_key=openai_api_key,\n",
    "    base_url=openai_api_base,\n",
    ")\n",
    "\n",
    "models = client.models.list()\n",
    "model = models.data[0].id\n",
    "\n",
    "print(f'model: {model}')\n",
    "\n",
    "sys_reg_prompt = '''You are a cancer research scientist studying the potential effects of various small molecules, peptides, and \n",
    "antibiodies on tumor cell growth. You will be presented with a series of multiple choice questions. Please select the correct\n",
    "choice. Return the answer in json format {\"CHOICE\": choice, \"ANSWER\": answer} where choice is only the alphabetic character \n",
    "associated with the full answer.'''\n",
    "\n",
    "_question = '''The cell line named 253J is a biological model for which primary disease?\n",
    "   \n",
    "a) Bladder Urothelial Carcinoma\n",
    "b) Cervical Adenocarcinoma\n",
    "c) Intracholecystic Papillary Neoplasm\n",
    "d) Prostate Adenocarcinoma'''\n",
    "\n",
    "_answer=''' {\"CHOICE\": \"a\", \"ANSWER\": \"Bladder Urothelial Carcinoma\"}'''\n",
    "\n",
    "question = '''The cell line named ABM-T9430 is a biological model for which primary disease?\n",
    "   \n",
    "a) Breast Ductal Carcinoma In Situ\n",
    "b) Ovarian Epithelial Tumor\n",
    "c) Non-Cancerous\n",
    "d) Osteosarcoma'''\n",
    "\n",
    "chat_completion = client.chat.completions.create(\n",
    "    messages=[{\n",
    "        \"role\": \"system\",\n",
    "        \"content\": sys_reg_prompt\n",
    "    }, {\n",
    "        \"role\": \"user\",\n",
    "        \"content\": _question\n",
    "    }, {\n",
    "        \"role\": \"assistant\",\n",
    "        \"content\": _answer\n",
    "    }, {\n",
    "        \"role\": \"user\",\n",
    "        \"content\": question\n",
    "    }\n",
    "             ],\n",
    "    model=model,\n",
    ")\n",
    "\n",
    "# print(\"Chat completion results:\")\n",
    "# print(chat_completion)\n"
   ]
  },
  {
   "cell_type": "code",
   "execution_count": 22,
   "id": "150ba408",
   "metadata": {},
   "outputs": [
    {
     "name": "stdout",
     "output_type": "stream",
     "text": [
      " {\"CHOICE\": \"d\", \"ANSWER\": \"Osteosarcoma\"} \n",
      " \n"
     ]
    }
   ],
   "source": [
    "# chat_completion.choices[0].message.content\n",
    "json_strings = chat_completion.choices[0].message.content.split('[INST]')[0]\n",
    "print(json_strings)"
   ]
  },
  {
   "cell_type": "code",
   "execution_count": null,
   "id": "bf2f23ea-079f-4261-8505-beab75c422b7",
   "metadata": {},
   "outputs": [],
   "source": []
  }
 ],
 "metadata": {
  "kernelspec": {
   "display_name": "Python 3 (ipykernel)",
   "language": "python",
   "name": "python3"
  },
  "language_info": {
   "codemirror_mode": {
    "name": "ipython",
    "version": 3
   },
   "file_extension": ".py",
   "mimetype": "text/x-python",
   "name": "python",
   "nbconvert_exporter": "python",
   "pygments_lexer": "ipython3",
   "version": "3.9.18"
  }
 },
 "nbformat": 4,
 "nbformat_minor": 5
}
