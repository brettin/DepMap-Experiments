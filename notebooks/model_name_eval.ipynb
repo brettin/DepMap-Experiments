{
 "cells": [
  {
   "cell_type": "code",
   "execution_count": 1,
   "id": "974ed0e0-36a0-490a-b217-fe60a7422f5b",
   "metadata": {},
   "outputs": [],
   "source": [
    "# Arguments\n",
    "f='./depmap/Model.csv.gz'\n",
    "host='localhost'\n",
    "port='9999'\n",
    "model='meta-llama/Meta-Llama-3-70B-Instruct'\n",
    "#model='mistral-community/Mixtral-8x22B-v0.1'\n",
    "# model = \"guchia/Llama3-8B-Instruct_CanLit_LR_2-4_FT_0.1\"\n",
    "# model = \"meta-llama/Meta-Llama-3-8B-Instruct\"\n",
    "# model = \"guchia/Llama3-8B-Instruct_CanLit_LR_2-4_FT_0.01\"\n",
    "#model = \"guchia/Llama3-8B-Instruct_CanLit_LR_2-4_FT_0.5\"\n",
    "#model = \"guchia/Llama3-8B-Instruct_CanLit_LR_2-4_FT_1.0\"\n",
    "#model = \"meta-llama/Meta-Llama-3-8B-Instruct\"\n",
    "model='llama31-405b-fp8'  # first time server was started with --served-model-name\n",
    "\n",
    "\n"
   ]
  },
  {
   "cell_type": "code",
   "execution_count": 4,
   "id": "e8e0008a-b360-4638-88bd-fdc75375837c",
   "metadata": {},
   "outputs": [
    {
     "data": {
      "text/plain": [
       "'part1_no_lora'"
      ]
     },
     "execution_count": 4,
     "metadata": {},
     "output_type": "execute_result"
    }
   ],
   "source": [
    "parts = model.split(\"/\")\n",
    "# using --served-model-name messed up my code\n",
    "if(len(parts) != 1):\n",
    "    f_prefix = parts[1]\n",
    "else:\n",
    "    f_prefix = parts[0]\n",
    "f_prefix = f_prefix + \"_no_lora\"\n",
    "f_prefix"
   ]
  },
  {
   "cell_type": "code",
   "execution_count": 3,
   "id": "0b40a3a4",
   "metadata": {},
   "outputs": [],
   "source": [
    "from openai import OpenAI\n",
    "\n",
    "# Set OpenAI's API key and API base to use vLLM's API server.\n",
    "openai_api_key = 'cmsc-35360'\n",
    "#openai_api_key = 'EMPTY'\n",
    "\n",
    "openai_api_base = f\"http://{host}:{port}/v1\"\n",
    "\n",
    "client = OpenAI(\n",
    "    api_key=openai_api_key,\n",
    "    base_url=openai_api_base,\n",
    ")"
   ]
  },
  {
   "cell_type": "code",
   "execution_count": 4,
   "id": "a1c2af72",
   "metadata": {},
   "outputs": [],
   "source": [
    "import pandas as pd\n",
    "\n",
    "def load_data(f):\n",
    "    df=pd.read_csv(f)\n",
    "    print(f'done importing dataframe (rows, columns) = {df.shape}.')\n",
    "    return df"
   ]
  },
  {
   "cell_type": "code",
   "execution_count": 5,
   "id": "84b368e7-4869-4bd8-925e-daa395549f69",
   "metadata": {},
   "outputs": [],
   "source": [
    "import random\n",
    "\n",
    "def select_random_element_not_equal_to(array, correct):\n",
    "    '''\n",
    "    Given an array of unique answers, select an answer not\n",
    "    equal to the correct answer.\n",
    "    '''\n",
    "    if len(array) == 0:\n",
    "        raise ValueError(\"The array is empty\")\n",
    "\n",
    "    # Filter out elements equal to `correct`\n",
    "    filtered_array = [element for element in array if element != correct]\n",
    "    \n",
    "    if not filtered_array:\n",
    "        raise ValueError(\"No valid elements to choose from\")\n",
    "\n",
    "    # Select a random element from the filtered list\n",
    "    return random.choice(filtered_array)"
   ]
  },
  {
   "cell_type": "code",
   "execution_count": 6,
   "id": "70546a55-6269-4c69-a75c-208ad0af1e09",
   "metadata": {},
   "outputs": [],
   "source": [
    "def construct_question(df, index, array):\n",
    "    '''\n",
    "    Construct a multiple choice question from df using row at index.\n",
    "    '''\n",
    "    if index < 0 or index >= len(df):\n",
    "        raise IndexError(\"Index out of bounds\")\n",
    "    \n",
    "    cell_line_name = df.iloc[index]['CellLineName']\n",
    "    correct_answer = df.iloc[index]['OncotreePrimaryDisease']\n",
    "\n",
    "    wrong_answer_1 = select_random_element_not_equal_to(array, correct_answer)\n",
    "    wrong_answer_2 = select_random_element_not_equal_to(array, correct_answer)\n",
    "    wrong_answer_3 = select_random_element_not_equal_to(array, correct_answer)\n",
    "\n",
    "    while wrong_answer_1 == wrong_answer_2 or wrong_answer_1 == wrong_answer_3 or wrong_answer_2 == wrong_answer_3:\n",
    "        wrong_answer_1 = select_random_element_not_equal_to(array, correct_answer)\n",
    "        wrong_answer_2 = select_random_element_not_equal_to(array, correct_answer)\n",
    "        wrong_answer_3 = select_random_element_not_equal_to(array, correct_answer)\n",
    "        \n",
    "    answers = [correct_answer,\n",
    "               wrong_answer_1,\n",
    "               wrong_answer_2,\n",
    "               wrong_answer_3]\n",
    "    random.shuffle(answers)\n",
    "\n",
    "    d = {\"a\": answers[0],\n",
    "         \"b\": answers[1],\n",
    "         \"c\": answers[2],\n",
    "         \"d\": answers[3],\n",
    "        }\n",
    "\n",
    "    for choice in d.keys():\n",
    "        if d[choice] == correct_answer:\n",
    "            correct_choice = choice\n",
    "    \n",
    "    # question = f'''The tumor cell line named {cell_line_name} is\n",
    "    # question = f'''The tumor cell line named {cell_line_name} is a biological model for which primary disease?\n",
    "    question = f'''The cell line named {cell_line_name} is a biological model for which primary disease?\n",
    "\n",
    "a) {d['a']}\n",
    "b) {d['b']}\n",
    "c) {d['c']}\n",
    "d) {d['d']}'''\n",
    "    \n",
    "    return question, correct_choice, correct_answer, cell_line_name"
   ]
  },
  {
   "cell_type": "code",
   "execution_count": 7,
   "id": "eb54595d-5113-40f4-bfd4-1fdc7575007d",
   "metadata": {},
   "outputs": [
    {
     "name": "stdout",
     "output_type": "stream",
     "text": [
      "done importing dataframe (rows, columns) = (1921, 36).\n"
     ]
    },
    {
     "name": "stderr",
     "output_type": "stream",
     "text": [
      "  3%|██                                                               | 60/1921 [01:01<33:53,  1.09s/it]"
     ]
    },
    {
     "name": "stdout",
     "output_type": "stream",
     "text": [
      "Error decoding JSON: Expecting ',' delimiter: line 1 column 72 (char 71)\n",
      "QUESTION:\n",
      "The cell line named HH is a biological model for which primary disease?\n",
      "\n",
      "a) Squamous Cell Carcinoma of the Vulva/Vagina\n",
      "b) Esophagogastric Adenocarcinoma\n",
      "c) Non-Hodgkin Lymphoma\n",
      "d) Ocular Melanoma\n",
      "MODEL RESPONSE:\n",
      "{\"CHOICE\": \"a\", \"ANSWER\": \"Squamous Cell Carcinoma of the Vulva/Vagina\"\n",
      "CORRECT RESPONSE:\n",
      "c. Non-Hodgkin Lymphoma\n"
     ]
    },
    {
     "name": "stderr",
     "output_type": "stream",
     "text": [
      "  5%|██▉                                                              | 88/1921 [01:28<30:15,  1.01it/s]"
     ]
    },
    {
     "name": "stdout",
     "output_type": "stream",
     "text": [
      "Error decoding JSON: Expecting ',' delimiter: line 1 column 52 (char 51)\n",
      "QUESTION:\n",
      "The cell line named NCI-H684 is a biological model for which primary disease?\n",
      "\n",
      "a) Prostate Adenocarcinoma\n",
      "b) Ovarian Germ Cell Tumor\n",
      "c) Pancreatic Neuroendocrine Tumor\n",
      "d) Colorectal Adenocarcinoma\n",
      "MODEL RESPONSE:\n",
      "{\"CHOICE\": \"b\", \"ANSWER\": \"Ovarian Germ Cell Tumor\"\n",
      "CORRECT RESPONSE:\n",
      "d. Colorectal Adenocarcinoma\n"
     ]
    },
    {
     "name": "stderr",
     "output_type": "stream",
     "text": [
      " 22%|██████████████▎                                                 | 429/1921 [07:21<24:29,  1.02it/s]"
     ]
    },
    {
     "name": "stdout",
     "output_type": "stream",
     "text": [
      "Error decoding JSON: Expecting ',' delimiter: line 1 column 54 (char 53)\n",
      "QUESTION:\n",
      "The cell line named TYK-nu is a biological model for which primary disease?\n",
      "\n",
      "a) Cervical Squamous Cell Carcinoma\n",
      "b) Ovarian Epithelial Tumor\n",
      "c) Invasive Breast Carcinoma\n",
      "d) Embryonal Tumor\n",
      "MODEL RESPONSE:\n",
      "{\"CHOICE\": \"c\", \"ANSWER\": \"Invasive Breast Carcinoma\"\n",
      "CORRECT RESPONSE:\n",
      "b. Ovarian Epithelial Tumor\n"
     ]
    },
    {
     "name": "stderr",
     "output_type": "stream",
     "text": [
      " 35%|██████████████████████▎                                         | 669/1921 [11:29<19:59,  1.04it/s]"
     ]
    },
    {
     "name": "stdout",
     "output_type": "stream",
     "text": [
      "Error decoding JSON: Expecting ',' delimiter: line 1 column 58 (char 57)\n",
      "QUESTION:\n",
      "The cell line named IA-LM is a biological model for which primary disease?\n",
      "\n",
      "a) Non-Small Cell Lung Cancer\n",
      "b) Fibrosarcoma\n",
      "c) Extra Gonadal Germ Cell Tumor\n",
      "d) Melanoma\n",
      "MODEL RESPONSE:\n",
      "{\"CHOICE\": \"c\", \"ANSWER\": \"Extra Gonadal Germ Cell Tumor\"\n",
      "CORRECT RESPONSE:\n",
      "a. Non-Small Cell Lung Cancer\n"
     ]
    },
    {
     "name": "stderr",
     "output_type": "stream",
     "text": [
      " 46%|█████████████████████████████▌                                  | 888/1921 [15:14<16:58,  1.01it/s]"
     ]
    },
    {
     "name": "stdout",
     "output_type": "stream",
     "text": [
      "Error decoding JSON: Expecting ',' delimiter: line 1 column 55 (char 54)\n",
      "QUESTION:\n",
      "The cell line named HCC-1438 is a biological model for which primary disease?\n",
      "\n",
      "a) Glassy Cell Carcinoma of the Cervix\n",
      "b) T-Lymphoblastic Leukemia/Lymphoma\n",
      "c) Non-Small Cell Lung Cancer\n",
      "d) Chordoma\n",
      "MODEL RESPONSE:\n",
      "{\"CHOICE\": \"c\", \"ANSWER\": \"Non-Small Cell Lung Cancer\"\n",
      "CORRECT RESPONSE:\n",
      "c. Non-Small Cell Lung Cancer\n"
     ]
    },
    {
     "name": "stderr",
     "output_type": "stream",
     "text": [
      " 52%|████████████████████████████████▉                              | 1006/1921 [17:18<22:31,  1.48s/it]"
     ]
    },
    {
     "name": "stdout",
     "output_type": "stream",
     "text": [
      "Error decoding JSON: Extra data: line 3 column 1 (char 116)\n",
      "QUESTION:\n",
      "The cell line named BGC823 is a biological model for which primary disease?\n",
      "\n",
      "a) Cervical Adenocarcinoma\n",
      "b) Meningothelial Tumor\n",
      "c) Ovarian Germ Cell Tumor\n",
      "d) Ovarian Epithelial Tumor\n",
      "MODEL RESPONSE:\n",
      "{\"CHOICE\": \"a\", \"ANSWER\": \"Not correct, A more common cell line associated with Cervical Adenocarcinoma is HeLa.\"}\n",
      "\n",
      "It seems none of the options are correct. BGC823 is actually associated with Gastric Adenocarcinoma.\n",
      "CORRECT RESPONSE:\n",
      "a. Cervical Adenocarcinoma\n"
     ]
    },
    {
     "name": "stderr",
     "output_type": "stream",
     "text": [
      " 55%|██████████████████████████████████▎                            | 1048/1921 [17:59<14:00,  1.04it/s]"
     ]
    },
    {
     "name": "stdout",
     "output_type": "stream",
     "text": [
      "Error decoding JSON: Expecting ',' delimiter: line 1 column 53 (char 52)\n",
      "QUESTION:\n",
      "The cell line named GLC-82 is a biological model for which primary disease?\n",
      "\n",
      "a) Ovarian Epithelial Tumor\n",
      "b) Small Bowel Cancer\n",
      "c) Meningothelial Tumor\n",
      "d) Cervical Adenocarcinoma\n",
      "MODEL RESPONSE:\n",
      "{\"CHOICE\": \"a\", \"ANSWER\": \"Ovarian Epithelial Tumor\"\n",
      "CORRECT RESPONSE:\n",
      "d. Cervical Adenocarcinoma\n"
     ]
    },
    {
     "name": "stderr",
     "output_type": "stream",
     "text": [
      " 61%|██████████████████████████████████████▋                        | 1178/1921 [20:10<14:30,  1.17s/it]"
     ]
    },
    {
     "name": "stdout",
     "output_type": "stream",
     "text": [
      "Error decoding JSON: Expecting ',' delimiter: line 1 column 141 (char 140)\n",
      "QUESTION:\n",
      "The cell line named H157 is a biological model for which primary disease?\n",
      "\n",
      "a) Sex Cord Stromal Tumor\n",
      "b) Head and Neck Squamous Cell Carcinoma\n",
      "c) Lung Neuroendocrine Tumor\n",
      "d) Melanoma\n",
      "MODEL RESPONSE:\n",
      "{\"CHOICE\": \"c\", \"ANSWER\": \"Lung Neuroendocrine Tumor - specifically, this cell line is often classified as a non-small cell lung carcinoma.\"\n",
      "CORRECT RESPONSE:\n",
      "b. Head and Neck Squamous Cell Carcinoma\n"
     ]
    },
    {
     "name": "stderr",
     "output_type": "stream",
     "text": [
      " 65%|█████████████████████████████████████████▏                     | 1255/1921 [21:30<11:33,  1.04s/it]"
     ]
    },
    {
     "name": "stdout",
     "output_type": "stream",
     "text": [
      "Error decoding JSON: Expecting ',' delimiter: line 1 column 54 (char 53)\n",
      "QUESTION:\n",
      "The cell line named C75 is a biological model for which primary disease?\n",
      "\n",
      "a) Extra Gonadal Germ Cell Tumor\n",
      "b) Head and Neck Squamous Cell Carcinoma\n",
      "c) Neuroblastoma\n",
      "d) Colorectal Adenocarcinoma\n",
      "MODEL RESPONSE:\n",
      "{\"CHOICE\": \"d\", \"ANSWER\": \"Colorectal Adenocarcinoma\"\n",
      "CORRECT RESPONSE:\n",
      "d. Colorectal Adenocarcinoma\n"
     ]
    },
    {
     "name": "stderr",
     "output_type": "stream",
     "text": [
      " 74%|██████████████████████████████████████████████▊                | 1426/1921 [24:37<14:13,  1.72s/it]"
     ]
    },
    {
     "name": "stdout",
     "output_type": "stream",
     "text": [
      "Error decoding JSON: Extra data: line 3 column 2 (char 106)\n",
      "QUESTION:\n",
      "The cell line named COLO 824 is a biological model for which primary disease?\n",
      "\n",
      "a) Prostate Small Cell Carcinoma\n",
      "b) Breast Neoplasm, NOS\n",
      "c) Diffuse Glioma\n",
      "d) Myelodysplastic Syndromes\n",
      "MODEL RESPONSE:\n",
      "{\"CHOICE\": \"c\", \"ANSWER\": \"No, that is incorrect, more information is needed to answer this question.\"}\n",
      "\n",
      " COLO 824 cell line is used as a model for  studies of  colonic neoplasia, neuroendocrine neoplasms and meningeal neoplasma's but seems most closely associated with  colonic neoplasia.\n",
      "CORRECT RESPONSE:\n",
      "b. Breast Neoplasm, NOS\n"
     ]
    },
    {
     "name": "stderr",
     "output_type": "stream",
     "text": [
      " 85%|█████████████████████████████████████████████████████▎         | 1627/1921 [28:03<04:48,  1.02it/s]"
     ]
    },
    {
     "name": "stdout",
     "output_type": "stream",
     "text": [
      "Error decoding JSON: Expecting ',' delimiter: line 1 column 54 (char 53)\n",
      "QUESTION:\n",
      "The cell line named SBC-3 is a biological model for which primary disease?\n",
      "\n",
      "a) Epithelioid Sarcoma\n",
      "b) Intraductal Papillary Neoplasm of the Bile Duct\n",
      "c) Lung Neuroendocrine Tumor\n",
      "d) Mucosal Melanoma of the Vulva/Vagina\n",
      "MODEL RESPONSE:\n",
      "{\"CHOICE\": \"c\", \"ANSWER\": \"Lung Neuroendocrine Tumor\"\n",
      "CORRECT RESPONSE:\n",
      "c. Lung Neuroendocrine Tumor\n"
     ]
    },
    {
     "name": "stderr",
     "output_type": "stream",
     "text": [
      " 87%|██████████████████████████████████████████████████████▉        | 1674/1921 [28:52<04:13,  1.03s/it]"
     ]
    },
    {
     "name": "stdout",
     "output_type": "stream",
     "text": [
      "Error decoding JSON: Expecting ',' delimiter: line 1 column 58 (char 57)\n",
      "QUESTION:\n",
      "The cell line named Hs-445 is a biological model for which primary disease?\n",
      "\n",
      "a) Non-Hodgkin Lymphoma\n",
      "b) Hodgkin Lymphoma\n",
      "c) Prostate Small Cell Carcinoma\n",
      "d) Myeloproliferative Neoplasms\n",
      "MODEL RESPONSE:\n",
      "{\"CHOICE\": \"c\", \"ANSWER\": \"Prostate Small Cell Carcinoma\"\n",
      "CORRECT RESPONSE:\n",
      "b. Hodgkin Lymphoma\n"
     ]
    },
    {
     "name": "stderr",
     "output_type": "stream",
     "text": [
      " 87%|██████████████████████████████████████████████████████▉        | 1676/1921 [28:54<04:04,  1.00it/s]"
     ]
    },
    {
     "name": "stdout",
     "output_type": "stream",
     "text": [
      "Error decoding JSON: Expecting ',' delimiter: line 1 column 54 (char 53)\n",
      "QUESTION:\n",
      "The cell line named IM-9 is a biological model for which primary disease?\n",
      "\n",
      "a) Non-Cancerous\n",
      "b) Leiomyosarcoma\n",
      "c) Prostate Adenocarcinoma\n",
      "d) Invasive Breast Carcinoma\n",
      "MODEL RESPONSE:\n",
      "{\"CHOICE\": \"d\", \"ANSWER\": \"Invasive Breast Carcinoma\"\n",
      "CORRECT RESPONSE:\n",
      "a. Non-Cancerous\n"
     ]
    },
    {
     "name": "stderr",
     "output_type": "stream",
     "text": [
      " 92%|█████████████████████████████████████████████████████████▊     | 1763/1921 [30:22<02:33,  1.03it/s]"
     ]
    },
    {
     "name": "stdout",
     "output_type": "stream",
     "text": [
      "Error decoding JSON: Expecting ',' delimiter: line 1 column 52 (char 51)\n",
      "QUESTION:\n",
      "The cell line named MOT is a biological model for which primary disease?\n",
      "\n",
      "a) Fibrosarcoma\n",
      "b) Ovarian Germ Cell Tumor\n",
      "c) Adrenocortical Carcinoma\n",
      "d) Mature B-Cell Neoplasms\n",
      "MODEL RESPONSE:\n",
      "{\"CHOICE\": \"b\", \"ANSWER\": \"Ovarian Germ Cell Tumor\"\n",
      "CORRECT RESPONSE:\n",
      "d. Mature B-Cell Neoplasms\n"
     ]
    },
    {
     "name": "stderr",
     "output_type": "stream",
     "text": [
      " 96%|████████████████████████████████████████████████████████████▌  | 1845/1921 [31:56<01:12,  1.05it/s]"
     ]
    },
    {
     "name": "stdout",
     "output_type": "stream",
     "text": [
      "Error decoding JSON: Expecting ',' delimiter: line 1 column 51 (char 50)\n",
      "QUESTION:\n",
      "The cell line named CCC-5 is a biological model for which primary disease?\n",
      "\n",
      "a) Acute Myeloid Leukemia\n",
      "b) Prostate Adenocarcinoma\n",
      "c) Intraductal Papillary Neoplasm of the Bile Duct\n",
      "d) Acute Leukemias of Ambiguous Lineage\n",
      "MODEL RESPONSE:\n",
      "{\"CHOICE\": \"a\", \"ANSWER\": \"Acute Myeloid Leukemia\"\n",
      "CORRECT RESPONSE:\n",
      "c. Intraductal Papillary Neoplasm of the Bile Duct\n"
     ]
    },
    {
     "name": "stderr",
     "output_type": "stream",
     "text": [
      " 97%|████████████████████████████████████████████████████████████▊  | 1854/1921 [32:05<01:04,  1.04it/s]"
     ]
    },
    {
     "name": "stdout",
     "output_type": "stream",
     "text": [
      "Error decoding JSON: Expecting ',' delimiter: line 1 column 47 (char 46)\n",
      "QUESTION:\n",
      "The cell line named S462 is a biological model for which primary disease?\n",
      "\n",
      "a) Pancreatic Neuroendocrine Tumor\n",
      "b) Adrenocortical Carcinoma\n",
      "c) Anaplastic Thyroid Cancer\n",
      "d) Nerve Sheath Tumor\n",
      "MODEL RESPONSE:\n",
      "{\"CHOICE\": \"d\", \"ANSWER\": \"Nerve Sheath Tumor\"\n",
      "CORRECT RESPONSE:\n",
      "d. Nerve Sheath Tumor\n"
     ]
    },
    {
     "name": "stderr",
     "output_type": "stream",
     "text": [
      "100%|███████████████████████████████████████████████████████████████| 1921/1921 [33:14<00:00,  1.04s/it]\n"
     ]
    },
    {
     "name": "stdout",
     "output_type": "stream",
     "text": [
      "1483 correct responses out of 1905\n"
     ]
    },
    {
     "ename": "NameError",
     "evalue": "name 'ofile_prefix' is not defined",
     "output_type": "error",
     "traceback": [
      "\u001b[0;31m---------------------------------------------------------------------------\u001b[0m",
      "\u001b[0;31mNameError\u001b[0m                                 Traceback (most recent call last)",
      "Cell \u001b[0;32mIn[7], line 92\u001b[0m\n\u001b[1;32m     89\u001b[0m timestamp \u001b[38;5;241m=\u001b[39m datetime\u001b[38;5;241m.\u001b[39mnow()\u001b[38;5;241m.\u001b[39mstrftime(\u001b[38;5;124m\"\u001b[39m\u001b[38;5;124m%\u001b[39m\u001b[38;5;124mY\u001b[39m\u001b[38;5;124m%\u001b[39m\u001b[38;5;124mm\u001b[39m\u001b[38;5;132;01m%d\u001b[39;00m\u001b[38;5;124m%\u001b[39m\u001b[38;5;124mH\u001b[39m\u001b[38;5;124m%\u001b[39m\u001b[38;5;124mM\u001b[39m\u001b[38;5;124m%\u001b[39m\u001b[38;5;124mS\u001b[39m\u001b[38;5;124m\"\u001b[39m)\n\u001b[1;32m     91\u001b[0m response_df \u001b[38;5;241m=\u001b[39m pd\u001b[38;5;241m.\u001b[39mDataFrame(responses)\n\u001b[0;32m---> 92\u001b[0m response_df\u001b[38;5;241m.\u001b[39mto_csv(\u001b[38;5;124mf\u001b[39m\u001b[38;5;124m'\u001b[39m\u001b[38;5;132;01m{\u001b[39;00mofile_prefix\u001b[38;5;132;01m}\u001b[39;00m\u001b[38;5;124m_model_name_eval_\u001b[39m\u001b[38;5;132;01m{\u001b[39;00mtimestamp\u001b[38;5;132;01m}\u001b[39;00m\u001b[38;5;124m.tsv\u001b[39m\u001b[38;5;124m'\u001b[39m, index\u001b[38;5;241m=\u001b[39m\u001b[38;5;28;01mNone\u001b[39;00m, sep\u001b[38;5;241m=\u001b[39m\u001b[38;5;124m\"\u001b[39m\u001b[38;5;130;01m\\t\u001b[39;00m\u001b[38;5;124m\"\u001b[39m)\n\u001b[1;32m     94\u001b[0m \u001b[38;5;28;01mwith\u001b[39;00m \u001b[38;5;28mopen\u001b[39m(\u001b[38;5;124mf\u001b[39m\u001b[38;5;124m'\u001b[39m\u001b[38;5;132;01m{\u001b[39;00mofile_prefix\u001b[38;5;132;01m}\u001b[39;00m\u001b[38;5;124m_model_name_eval_summary.txt\u001b[39m\u001b[38;5;124m'\u001b[39m, \u001b[38;5;124m'\u001b[39m\u001b[38;5;124ma\u001b[39m\u001b[38;5;124m'\u001b[39m) \u001b[38;5;28;01mas\u001b[39;00m f:\n\u001b[1;32m     95\u001b[0m     \u001b[38;5;28mprint\u001b[39m(\u001b[38;5;124mf\u001b[39m\u001b[38;5;124m'\u001b[39m\u001b[38;5;132;01m{\u001b[39;00mtimestamp\u001b[38;5;132;01m}\u001b[39;00m\u001b[38;5;130;01m\\t\u001b[39;00m\u001b[38;5;132;01m{\u001b[39;00mnum_correct\u001b[38;5;132;01m}\u001b[39;00m\u001b[38;5;124m correct responses out of \u001b[39m\u001b[38;5;132;01m{\u001b[39;00mtotal\u001b[38;5;132;01m}\u001b[39;00m\u001b[38;5;124m'\u001b[39m, file\u001b[38;5;241m=\u001b[39mf)\n",
      "\u001b[0;31mNameError\u001b[0m: name 'ofile_prefix' is not defined"
     ]
    }
   ],
   "source": [
    "import json\n",
    "from tqdm import tqdm\n",
    "from datetime import datetime\n",
    "\n",
    "df = load_data(f)\n",
    "array = df['OncotreePrimaryDisease'].unique()\n",
    "\n",
    "\n",
    "sys_reg_prompt = '''You are a cancer research scientist studying the potential effects of various small molecules, peptides, and \n",
    "antibiodies on tumor cell growth. You will be presented with a series of multiple choice questions. Please select the correct\n",
    "choice. Return the answer in json format {\"CHOICE\": \"choice\", \"ANSWER\": \"answer\"} where choice is only the alphabetic character \n",
    "associated with the full answer.'''\n",
    "\n",
    "class MyException(Exception):\n",
    "    pass\n",
    "\n",
    "for i in range(0, 10):\n",
    "    num_correct = 0\n",
    "    total = 0\n",
    "    responses = []\n",
    "    response = {}\n",
    "\n",
    "\n",
    "    for i in tqdm( range(df.shape[0]) ):\n",
    "        # get question, correct choice and answer\n",
    "        question, correct_choice, correct_answer, cell_line_name = construct_question(df, i, array)\n",
    "        \n",
    "        # construct message\n",
    "        messages=[\n",
    "            {\"role\": \"system\",\n",
    "             \"content\": sys_reg_prompt\n",
    "            },\n",
    "            {\"role\": \"user\",\n",
    "             \"content\": question\n",
    "            },\n",
    "\n",
    "        ]\n",
    "        # print(f'{sys_reg_prompt}')\n",
    "        # print(f'{question}')\n",
    "        \n",
    "        chat_response = client.chat.completions.create(\n",
    "            model=model,\n",
    "            # logprobs=1,\n",
    "            # top_logprobs=1,\n",
    "            messages=messages,\n",
    "            #temperature=0.0,\n",
    "            #max_tokens=2000,\n",
    "            stream=False,\n",
    "        )\n",
    "        # print(f'{chat_response}')\n",
    "        \n",
    "        try:\n",
    "            response = json.loads(chat_response.choices[0].message.content)\n",
    "            response['CORRECT CHOICE'] = correct_choice\n",
    "            response['CORRECT ANSWER'] = correct_answer\n",
    "            response['CELL_LINE_NAME'] = cell_line_name\n",
    "    \n",
    "            if response['CHOICE'] == correct_choice:\n",
    "                response['SCORE'] = 1\n",
    "                num_correct = num_correct + 1\n",
    "            else:\n",
    "                response['SCORE'] = 0\n",
    "    \n",
    "            total = total + 1\n",
    "            responses.append(response)\n",
    "\n",
    "        except json.JSONDecodeError as e:\n",
    "            print(f\"Error decoding JSON: {e}\")\n",
    "\n",
    "            response[\"CHOICE\"] =  \"e\"\n",
    "            response[\"ANSWER\"] =  chat_response.choices[0].message.content\n",
    "            response['CORRECT CHOICE'] = correct_choice\n",
    "            response['CORRECT ANSWER'] = correct_answer\n",
    "            response['CELL_LINE_NAME'] = cell_line_name\n",
    "            response['SCORE'] = 0\n",
    "            responses.append(response)\n",
    "\n",
    "            print(f\"QUESTION:\\n{question}\")\n",
    "            print(f\"MODEL RESPONSE:\\n{chat_response.choices[0].message.content}\")\n",
    "            print(f\"CORRECT RESPONSE:\\n{correct_choice}. {correct_answer}\")\n",
    "            \n",
    "            pass\n",
    "    \n",
    "    print(f'{num_correct} correct responses out of {total}')\n",
    "    timestamp = datetime.now().strftime(\"%Y%m%d%H%M%S\")\n",
    "\n",
    "    response_df = pd.DataFrame(responses)\n",
    "    response_df.to_csv(f'{ofile_prefix}_model_name_eval_{timestamp}.tsv', index=None, sep=\"\\t\")\n",
    "\n",
    "    with open(f'{ofile_prefix}_model_name_eval_summary.txt', 'a') as f:\n",
    "        print(f'{timestamp}\\t{num_correct} correct responses out of {total}', file=f)"
   ]
  },
  {
   "cell_type": "code",
   "execution_count": null,
   "id": "6d865890-0af9-43c4-8cf9-f197543de25f",
   "metadata": {},
   "outputs": [],
   "source": []
  }
 ],
 "metadata": {
  "kernelspec": {
   "display_name": "Python 3 (ipykernel)",
   "language": "python",
   "name": "python3"
  },
  "language_info": {
   "codemirror_mode": {
    "name": "ipython",
    "version": 3
   },
   "file_extension": ".py",
   "mimetype": "text/x-python",
   "name": "python",
   "nbconvert_exporter": "python",
   "pygments_lexer": "ipython3",
   "version": "3.9.18"
  }
 },
 "nbformat": 4,
 "nbformat_minor": 5
}
