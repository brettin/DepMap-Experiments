{
 "cells": [
  {
   "cell_type": "code",
   "execution_count": 1,
   "id": "21a76ab1-de5a-45ea-91d1-1ddc030912ba",
   "metadata": {},
   "outputs": [],
   "source": [
    "import pandas as pd\n",
    "from openai import OpenAI\n",
    "import random"
   ]
  },
  {
   "cell_type": "code",
   "execution_count": 2,
   "id": "974ed0e0-36a0-490a-b217-fe60a7422f5b",
   "metadata": {},
   "outputs": [],
   "source": [
    "# Arguments\n",
    "infile='../depmap/Model.csv.gz'\n",
    "host='127.0.0.1'\n",
    "host='localhost'\n",
    "port='9999'\n",
    "#port='8000'\n",
    "model='meta-llama/Meta-Llama-3-70B-Instruct'\n",
    "model='meta-llama/Meta-Llama-3-8B-Instruct'\n",
    "model='meta-llama/Meta-Llama-3.1-70B-Instruct'\n",
    "model='llama31-405b-fp8'  # first time server was started with --served-model-name\n",
    "openai_api_key = 'cmsc-35360'\n",
    "openai_api_base = f\"http://{host}:{port}/v1\""
   ]
  },
  {
   "cell_type": "code",
   "execution_count": 3,
   "id": "2301cc87-7958-439f-8e12-f7df1e0e62d8",
   "metadata": {},
   "outputs": [
    {
     "data": {
      "text/plain": [
       "'llama31-405b-fp8_no_lora'"
      ]
     },
     "execution_count": 3,
     "metadata": {},
     "output_type": "execute_result"
    }
   ],
   "source": [
    "#f_prefix = model.split(\"/\")[1]\n",
    "# using --served-model-name messed up my code\n",
    "f_prefix = model\n",
    "\n",
    "f_prefix = f_prefix + \"_no_lora\"\n",
    "f_prefix\n",
    "\n",
    "\n"
   ]
  },
  {
   "cell_type": "code",
   "execution_count": 4,
   "id": "0b40a3a4",
   "metadata": {},
   "outputs": [],
   "source": [
    "client = OpenAI(\n",
    "    api_key=openai_api_key,\n",
    "    base_url=openai_api_base,\n",
    ")"
   ]
  },
  {
   "cell_type": "code",
   "execution_count": 5,
   "id": "a1c2af72",
   "metadata": {},
   "outputs": [],
   "source": [
    "def load_data(f):\n",
    "    df=pd.read_csv(f)\n",
    "    return df"
   ]
  },
  {
   "cell_type": "code",
   "execution_count": 6,
   "id": "84b368e7-4869-4bd8-925e-daa395549f69",
   "metadata": {},
   "outputs": [],
   "source": [
    "def select_random_element_not_equal_to(array, correct):\n",
    "    '''\n",
    "    Given an array of unique answers, select an answer not equal to the correct answer.\n",
    "    '''\n",
    "    if len(array) == 0:\n",
    "        raise ValueError(\"The array is empty\")\n",
    "\n",
    "    # Filter out elements equal to `correct`\n",
    "    filtered_array = [element for element in array if element != correct]\n",
    "    \n",
    "    if not filtered_array:\n",
    "        raise ValueError(\"No valid elements to choose from\")\n",
    "\n",
    "    # Select a random element from the filtered list\n",
    "    return random.choice(filtered_array)"
   ]
  },
  {
   "cell_type": "code",
   "execution_count": 7,
   "id": "926edf4d-65bf-4de1-b415-30d4e8775ee8",
   "metadata": {},
   "outputs": [],
   "source": [
    "def remove_correct_cell_line_answers(disease, df):\n",
    "    '''\n",
    "    Returns a list of unique cell line names not associated with disease.\n",
    "    '''\n",
    "    \n",
    "    filtered = df[df['OncotreePrimaryDisease'] != disease]\n",
    "    array = filtered['CellLineName'].unique()\n",
    "    \n",
    "    # debug\n",
    "    # print(f'{df.shape}\\t{filtered.shape}')\n",
    "    # print(f'{len(array)}')\n",
    "    \n",
    "    return array"
   ]
  },
  {
   "cell_type": "code",
   "execution_count": 8,
   "id": "70546a55-6269-4c69-a75c-208ad0af1e09",
   "metadata": {},
   "outputs": [],
   "source": [
    "def construct_question(df, index):\n",
    "    '''\n",
    "    Construct a multiple choice question from df using row at index.\n",
    "    Row at index will have the correct answer.\n",
    "    The incorrect answers are randomly selected from array.\n",
    "    '''\n",
    "    if index < 0 or index >= len(df):\n",
    "        raise IndexError(\"Index out of bounds\")\n",
    "    \n",
    "    disease = df.iloc[index]['OncotreePrimaryDisease']\n",
    "    correct_answer = df.iloc[index]['CellLineName']\n",
    "    wrong_answers = remove_correct_cell_line_answers(disease, df)\n",
    "    \n",
    "    wrong_answer_1 = select_random_element_not_equal_to(wrong_answers, correct_answer)\n",
    "    wrong_answer_2 = select_random_element_not_equal_to(wrong_answers, correct_answer)\n",
    "    wrong_answer_3 = select_random_element_not_equal_to(wrong_answers, correct_answer)\n",
    "\n",
    "    while wrong_answer_1 == wrong_answer_2 or wrong_answer_1 == wrong_answer_3 or wrong_answer_2 == wrong_answer_3:\n",
    "        wrong_answer_1 = select_random_element_not_equal_to(wrong_answers, correct_answer)\n",
    "        wrong_answer_2 = select_random_element_not_equal_to(wrong_answers, correct_answer)\n",
    "        wrong_answer_3 = select_random_element_not_equal_to(wrong_answers, correct_answer)\n",
    "        \n",
    "    answers = [correct_answer,\n",
    "               wrong_answer_1,\n",
    "               wrong_answer_2,\n",
    "               wrong_answer_3]\n",
    "    random.shuffle(answers)\n",
    "\n",
    "    d = {\"a\": answers[0],\n",
    "         \"b\": answers[1],\n",
    "         \"c\": answers[2],\n",
    "         \"d\": answers[3],\n",
    "        }\n",
    "\n",
    "    for choice in d.keys():\n",
    "        if d[choice] == correct_answer:\n",
    "            correct_choice = choice\n",
    "    \n",
    "    question = f'''The primary disease {disease} can be best studied using which cell line?\n",
    "a) {d['a']}\n",
    "b) {d['b']}\n",
    "c) {d['c']}\n",
    "d) {d['d']}'''\n",
    "    \n",
    "    return question, correct_choice, correct_answer, disease\n",
    "    "
   ]
  },
  {
   "cell_type": "code",
   "execution_count": 9,
   "id": "b72ec0dd-6877-43b8-8b05-3fb030868bca",
   "metadata": {},
   "outputs": [],
   "source": [
    "def debug(index, disease, df, answer):\n",
    "    '''\n",
    "    The answer is the name of the cell line associated that can be used as a model for the disease.\n",
    "    We get all cell lines associated with that disease, and check if answer is in that list.\n",
    "    '''\n",
    "    filtered_df = df[df['OncotreePrimaryDisease'] == disease]\n",
    "    cell_line_names = filtered_df['CellLineName'].values\n",
    "    filtered_array = [element for element in cell_line_names if element == answer]\n",
    "    \n",
    "    #print(cell_line_names)\n",
    "    #print(filtered_array)\n",
    "\n",
    "    return filtered_array"
   ]
  },
  {
   "cell_type": "code",
   "execution_count": 10,
   "id": "eb54595d-5113-40f4-bfd4-1fdc7575007d",
   "metadata": {},
   "outputs": [
    {
     "name": "stderr",
     "output_type": "stream",
     "text": [
      "  8%|█████                                                          | 153/1921 [02:26<22:17,  1.32it/s]"
     ]
    },
    {
     "name": "stdout",
     "output_type": "stream",
     "text": [
      "Error decoding JSON: Expecting value: line 1 column 1 (char 0)\n",
      "The primary disease Non-Cancerous can be best studied using which cell line?\n",
      "a) Hs 888.T\n",
      "b) TGBC24TKB\n",
      "c) OCI-P5x\n",
      "d) LC-1/sq-SF\n",
      "I can't answer that.\n"
     ]
    },
    {
     "name": "stderr",
     "output_type": "stream",
     "text": [
      " 16%|█████████▊                                                     | 301/1921 [04:44<36:55,  1.37s/it]"
     ]
    },
    {
     "name": "stdout",
     "output_type": "stream",
     "text": [
      "Error decoding JSON: Expecting ',' delimiter: line 1 column 183 (char 182)\n",
      "The primary disease Endometrial Carcinoma can be best studied using which cell line?\n",
      "a) NCI-H596\n",
      "b) SNU-1077\n",
      "c) BC-3C\n",
      "d) HUTU80\n",
      "{\"CHOICE\": \"d\", \"ANSWER\": \"HUTU80 is not the best answer, however the best cell line is HEC-1-A or Ishikawa but they are not listed, however of the ones that are HUTU80 is the best.\"\n"
     ]
    },
    {
     "name": "stderr",
     "output_type": "stream",
     "text": [
      " 45%|████████████████████████████                                   | 855/1921 [13:34<43:38,  2.46s/it]"
     ]
    },
    {
     "name": "stdout",
     "output_type": "stream",
     "text": [
      "Error decoding JSON: Extra data: line 3 column 1 (char 316)\n",
      "The primary disease Non-Small Cell Lung Cancer can be best studied using which cell line?\n",
      "a) UPMM3\n",
      "b) KNS-62\n",
      "c) Mero-84\n",
      "d) SU-DHL-16\n",
      "{\"CHOICE\": \"c\", \"ANSWER\": \"Mero-84 is not the best answer, however,  Mero-84 isn't listed as a cell line for Non-Small Cell Lung Cancer but NCI-H1975 is. Of the options, NCI-H1975 wasn't listed but Mero-84 was listed as a NSCLC but not the best cell line. Of the options, none are the best cell lines for NSCLC. \"}\n",
      "\n",
      "I made an error in the response, I will provide the correct cell line for Non-Small Cell Lung Cancer. \n",
      "\n",
      "Indeed, the best cell lines for NSCLC are NCI-H1975, A549, and HCC827.\n"
     ]
    },
    {
     "name": "stderr",
     "output_type": "stream",
     "text": [
      " 59%|████████████████████████████████████▎                         | 1126/1921 [18:35<19:22,  1.46s/it]"
     ]
    },
    {
     "name": "stdout",
     "output_type": "stream",
     "text": [
      "Error decoding JSON: Expecting ',' delimiter: line 1 column 199 (char 198)\n",
      "The primary disease Rhabdoid Cancer can be best studied using which cell line?\n",
      "a) MEL-JUSO\n",
      "b) HCC1599BL\n",
      "c) MHH-CALL-4\n",
      "d) TTC-1240\n",
      "{\"CHOICE\": \"a\", \"ANSWER\": \"MEL-JUSO is a cell line often used to study Rhabdoid cancer, however more information would be needed to confirm this is the best cell line to use for a particular study.\"\n"
     ]
    },
    {
     "name": "stderr",
     "output_type": "stream",
     "text": [
      " 59%|████████████████████████████████████▍                         | 1128/1921 [18:40<27:44,  2.10s/it]"
     ]
    },
    {
     "name": "stdout",
     "output_type": "stream",
     "text": [
      "Error decoding JSON: Expecting ',' delimiter: line 1 column 185 (char 184)\n",
      "The primary disease Rhabdoid Cancer can be best studied using which cell line?\n",
      "a) TUHR14TKB\n",
      "b) TTC-642\n",
      "c) TASK1\n",
      "d) NOS-1\n",
      "{\"CHOICE\": \"b\", \"ANSWER\": \"TTC-642 is not well known, however G401 and A204 are well known cell lines for Rhabdoid Cancer. However, another cell line is indeed TTC642 so b is correct.\"\n"
     ]
    },
    {
     "name": "stderr",
     "output_type": "stream",
     "text": [
      " 63%|███████████████████████████████████████                       | 1209/1921 [20:30<19:27,  1.64s/it]"
     ]
    },
    {
     "name": "stdout",
     "output_type": "stream",
     "text": [
      "Error decoding JSON: Expecting ',' delimiter: line 1 column 38 (char 37)\n",
      "The primary disease Lung Neuroendocrine Tumor can be best studied using which cell line?\n",
      "a) LK-2\n",
      "b) SCLC-22H\n",
      "c) LS\n",
      "d) PANFR0233\n",
      "{\"CHOICE\": \"d\", \"ANSWER\": \"PANFR0233\"\n"
     ]
    },
    {
     "name": "stderr",
     "output_type": "stream",
     "text": [
      " 66%|███████████████████████████████████████▉                    | 1277/1921 [23:56<6:44:24, 37.68s/it]"
     ]
    },
    {
     "name": "stdout",
     "output_type": "stream",
     "text": [
      "Error decoding JSON: Unterminated string starting at: line 1 column 27 (char 26)\n",
      "The primary disease Cervical Adenocarcinoma can be best studied using which cell line?\n",
      "a) HuT 78\n",
      "b) SW 900\n",
      "c) PGA-1\n",
      "d) HCSC-1\n",
      "{\"CHOICE\": \"d\", \"ANSWER\": \"HCSC-1 is not the best answer, HeLa is the most commonly used cell line to study cervical cancer, however HeLa was not an option, another cell line used is HCSC-1's alternative HeLa contaminant  HCS-2 and ME-180 and MS751 and  one of the best cell line to study Cervical Adenocarcinoma is HeLa however an alternative is  HCS-2 and ME-180 and MS751 and  HCSC-1's alternative HeLa contaminant  HCS-2 and ME-180 and MS751 is HeLa however an alternative is  HCS-2 and ME-180 and MS751 and  HeLa however an alternative is  HCS-2 and ME-180 and MS751 is HeLa however an alternative is  HCS-2 and ME-180 and MS751 and HeLa however an alternative is  HCS-2 and ME-180 and MS751 is HeLa however an alternative is  HCS-2 and ME-180 and MS751 and HeLa however an alternative is  HCS-2 and ME-180 and MS751 is HeLa however an alternative is  HCS-2 and ME-180 and MS751 and HeLa however an alternative is  HCS-2 and ME-180 and MS751 is HeLa however an alternative is  HCS-2 and ME-180 and MS751 and HeLa however an alternative is  HCS-2 and ME-180 and MS751 is HeLa however an alternative is  HCS-2 and ME-180 and MS751 and HeLa however an alternative is  HCS-2 and ME-180 and MS751 is HeLa however an alternative is  HCS-2 and ME-180 and MS751 and HeLa however an alternative is  HCS-2 and ME-180 and MS751 is HeLa however an alternative is  HCS-2 and ME-180 and MS751 and HeLa however an alternative is  HCS-2 and ME-180 and MS751 is HeLa however an alternative is  HCS-2 and ME-180 and MS751 and HeLa however an alternative is  HCS-2 and ME-180 and MS751 is HeLa however an alternative is  HCS-2 and ME-180 and MS751 and HeLa however an alternative is  HCS-2 and ME-180 and MS751 is HeLa however an alternative is  HCS-2 and ME-180 and MS751 and HeLa however an alternative is  HCS-2 and ME-180 and MS751 is HeLa however an alternative is  HCS-2 and ME-180 and MS751 and HeLa however an alternative is  HCS-2 and ME-180 and MS751 is HeLa however an alternative is  HCS-2 and ME-180 and MS751 and HeLa however an alternative is  HCS-2 and ME-180 and MS751 is HeLa however an alternative is  HCS-2 and ME-180 and MS751 and HeLa however an alternative is  HCS-2 and ME-180 and MS751 is HeLa however an alternative is  HCS-2 and ME-180 and MS751 and HeLa however an alternative is  HCS-2 and ME-180 and MS751 is HeLa however an alternative is  HCS-2 and ME-180 and MS751 and HeLa however an alternative is  HCS-2 and ME-180 and MS751 is HeLa however an alternative is  HCS-2 and ME-180 and MS751 and HeLa however an alternative is  HCS-2 and ME-180 and MS751 is HeLa however an alternative is  HCS-2 and ME-180 and MS751 and HeLa however an alternative is  HCS-2 and ME-180 and MS751 is HeLa however an alternative is  HCS-2 and ME-180 and MS751 and HeLa however an alternative is  HCS-2 and ME-180 and MS751 is HeLa however an alternative is  HCS-2 and ME-180 and MS751 and HeLa however an alternative is  HCS-2 and ME-180 and MS751 is HeLa however an alternative is  HCS-2 and ME-180 and MS751 and HeLa however an alternative is  HCS-2 and ME-180 and MS751 is HeLa however an alternative is  HCS-2 and ME-180 and MS751 and HeLa however an alternative is  HCS-2 and ME-180 and MS751 is HeLa however an alternative is  HCS-2 and ME-180 and MS751 and HeLa however an alternative is  HCS-2 and ME-180 and MS751 is HeLa however an alternative is  HCS-2 and ME-180 and MS751 and HeLa however an alternative is  HCS-2 and ME-180 and MS751 is HeLa however an alternative is  HCS-2 and ME-180 and MS751 and HeLa however an alternative is  HCS-2 and ME-180 and MS751 is HeLa however an alternative is  HCS-2 and ME-180 and MS751 and HeLa however an alternative is  HCS-2 and ME-180 and MS751 is HeLa however an alternative is  HCS-2 and ME-180 and MS751 and HeLa however an alternative is  HCS-2 and ME-180 and MS751 is HeLa however an alternative is  HCS-2 and ME-180 and MS751 and HeLa however an alternative is  HCS-2 and ME-180 and MS751 is HeLa however an alternative is  HCS-2 and ME-180 and MS751 and HeLa however an alternative is  HCS-2 and ME-180 and MS751 is HeLa however an alternative is  HCS-2 and ME-180 and MS751 and HeLa however an alternative is  HCS-2 and ME-180 and MS751 is HeLa however an alternative is  HCS-2 and ME-180 and MS751 and HeLa however an alternative is  HCS-2 and ME-180 and MS751 is HeLa however an alternative is  HCS-2 and ME-180 and MS751 and HeLa however an alternative is  HCS-2 and ME-180 and MS751 is HeLa however an alternative is  HCS-2 and ME-180 and MS751 and HeLa however an alternative is  HCS-2 and ME-180 and MS751 is HeLa however an alternative is  HCS-2 and ME-180 and MS751 and HeLa however an alternative is  HCS-2 and ME-180 and MS751 is HeLa however an alternative is  HCS-2 and ME-180 and MS751 and HeLa however an alternative is  HCS-2 and ME-180 and MS751 is HeLa however an alternative is  HCS-2 and ME-180 and MS751 and HeLa however an alternative is  HCS-2 and ME-180 and MS751 is HeLa however an alternative is  HCS-2 and ME-180 and MS751 and HeLa however an alternative is  HCS-2 and ME-180 and MS751 is HeLa however an alternative is  HCS-2 and ME-180 and MS751 and HeLa however an alternative is  HCS-2 and ME-180 and MS751 is HeLa however an alternative is  HCS-2 and ME-180 and MS751 and HeLa however an alternative is  HCS-2 and ME-180 and MS751 is HeLa however an alternative is  HCS-2 and ME-180 and MS751 and HeLa however an alternative is  HCS-2 and ME-180 and MS751 is HeLa however an alternative is  HCS-2 and ME-180 and MS751 and HeLa however an alternative is  HCS-2 and ME-180 and MS751 is HeLa however an alternative is  HCS-2 and ME-180 and MS751 and HeLa however an alternative is  HCS-2 and ME-180 and MS751 is HeLa however an alternative is  HCS-2 and ME-180 and MS751 and HeLa however an alternative is  HCS-2 and ME-180 and MS751 is HeLa however an alternative is  HCS-2 and ME-180 and MS751 and HeLa however an alternative is  HCS-2 and ME-180 and MS751 is HeLa however an alternative is  HCS-2 and ME-180 and MS751 and HeLa however an alternative is  HCS-2 and ME-180 and MS751 is HeLa however an alternative is  HCS-2 and ME-180 and MS751 and HeLa however an alternative is  HCS-2 and ME-180 and MS751 is HeLa however an alternative is  HCS-2 and ME-180 and MS751 and HeLa however an alternative is  HCS-2 and ME-180 and MS751 is HeLa however an alternative is  HCS-2 and ME-180 and MS751 and HeLa however an alternative is  HCS-2 and ME-180 and MS751 is HeLa however an alternative is  HCS-2 and ME-180 and MS751 and HeLa however an alternative is  HCS-2 and ME-180 and MS751 is HeLa however an alternative is  HCS-2 and ME-180 and MS751 and HeLa however an alternative is  HCS-2 and ME-180 and MS751 is HeLa however an alternative is  HCS-2 and ME-180 and MS751 and HeLa however an alternative is  HCS-2 and ME-180 and MS751 is HeLa however an alternative is  HCS-2 and ME-180 and MS751 and HeLa however an alternative is  HCS-2 and ME-180 and MS751 is HeLa however an alternative is  HCS-2 and ME-180 and MS751 and HeLa however an alternative is  HCS-2 and ME-180 and MS751 is HeLa however an alternative is  HCS-2 and ME-180 and MS751 and HeLa however an alternative is  HCS-2 and ME-180 and MS751 is HeLa however an alternative is  HCS-2 and ME-180 and MS751 and HeLa however an alternative is  HCS-2 and ME-180 and MS751 is HeLa however an alternative is  HCS-2 and ME-180 and MS751 and HeLa however an alternative is  HCS-2 and ME-180 and MS751 is HeLa however an alternative is  HCS-2 and ME-180 and MS751 and HeLa however an alternative is  HCS-2 and ME-180 and MS751 is HeLa however an alternative is  HCS-2 and ME-180 and MS751 and HeLa however an alternative is  HCS-2 and ME-180 and MS751 is HeLa however an alternative is  HCS-2 and ME-180 and MS751 and HeLa however an alternative is  HCS-2 and ME-180 and MS751 is HeLa however an alternative is  HCS-2 and ME-180 and MS751 and HeLa however an alternative is  HCS-2 and ME-180 and MS751 is HeLa however an alternative is  HCS-2 and ME-180 and MS751 and HeLa however an alternative is  HCS-2 and ME-180 and MS751 is HeLa however an alternative is  HCS-2 and ME-180 and MS751 and HeLa however an alternative is  HCS-2 and ME-180 and MS751 is HeLa however an alternative is  HCS-2 and ME-180 and MS751 and HeLa however an alternative is  HCS-2 and ME-180 and MS751 is HeLa however an alternative is  HCS-2 and ME-180 and MS751 and HeLa however an alternative is  HCS-2 and\n"
     ]
    },
    {
     "name": "stderr",
     "output_type": "stream",
     "text": [
      " 69%|██████████████████████████████████████████▉                   | 1331/1921 [25:00<10:58,  1.12s/it]"
     ]
    },
    {
     "name": "stdout",
     "output_type": "stream",
     "text": [
      "Error decoding JSON: Expecting ',' delimiter: line 1 column 33 (char 32)\n",
      "The primary disease Diffuse Glioma can be best studied using which cell line?\n",
      "a) ES4\n",
      "b) no.11\n",
      "c) MZ7B\n",
      "d) BT-474\n",
      "{\"CHOICE\": \"c\", \"ANSWER\": \"MZ7B\"\n"
     ]
    },
    {
     "name": "stderr",
     "output_type": "stream",
     "text": [
      " 69%|███████████████████████████████████████████                   | 1334/1921 [25:03<10:10,  1.04s/it]"
     ]
    },
    {
     "name": "stdout",
     "output_type": "stream",
     "text": [
      "Error decoding JSON: Expecting ',' delimiter: line 1 column 38 (char 37)\n",
      "The primary disease Diffuse Glioma can be best studied using which cell line?\n",
      "a) NP 3\n",
      "b) huH-1\n",
      "c) NCIBL2122\n",
      "d) NCI-H1930\n",
      "{\"CHOICE\": \"c\", \"ANSWER\": \"NCIBL2122\"\n"
     ]
    },
    {
     "name": "stderr",
     "output_type": "stream",
     "text": [
      " 71%|███████████████████████████████████████████▊                  | 1359/1921 [25:31<12:41,  1.36s/it]"
     ]
    },
    {
     "name": "stdout",
     "output_type": "stream",
     "text": [
      "Error decoding JSON: Expecting ',' delimiter: line 1 column 182 (char 181)\n",
      "The primary disease Prostate Adenocarcinoma can be best studied using which cell line?\n",
      "a) BHT-101\n",
      "b) NCI-H920\n",
      "c) PA-1 [PA1]\n",
      "d) Shmac 4\n",
      "{\"CHOICE\": \"d\", \"ANSWER\": \"Shmac 4 is not the best answer, however of the options provided it is the best. A more suitable cell line would be LNCaP, however that was not an option.\"\n"
     ]
    },
    {
     "name": "stderr",
     "output_type": "stream",
     "text": [
      " 75%|██████████████████████████████████████████████▍               | 1440/1921 [27:11<09:52,  1.23s/it]"
     ]
    },
    {
     "name": "stdout",
     "output_type": "stream",
     "text": [
      "Error decoding JSON: Expecting ',' delimiter: line 1 column 39 (char 38)\n",
      "The primary disease Intraductal Papillary Neoplasm of the Bile Duct can be best studied using which cell line?\n",
      "a) CHL-1\n",
      "b) ICC7\n",
      "c) COG-AR-359\n",
      "d) KYSE-270\n",
      "{\"CHOICE\": \"c\", \"ANSWER\": \"COG-AR-359\"\n"
     ]
    },
    {
     "name": "stderr",
     "output_type": "stream",
     "text": [
      " 76%|██████████████████████████████████████████████▉               | 1455/1921 [27:27<07:46,  1.00s/it]"
     ]
    },
    {
     "name": "stdout",
     "output_type": "stream",
     "text": [
      "Error decoding JSON: Expecting ',' delimiter: line 1 column 34 (char 33)\n",
      "The primary disease Lung Neuroendocrine Tumor can be best studied using which cell line?\n",
      "a) MS1\n",
      "b) ICC10\n",
      "c) SNU-254\n",
      "d) BIN-67\n",
      "{\"CHOICE\": \"b\", \"ANSWER\": \"ICC10\"\n"
     ]
    },
    {
     "name": "stderr",
     "output_type": "stream",
     "text": [
      " 76%|███████████████████████████████████████████████▎              | 1465/1921 [27:40<09:06,  1.20s/it]"
     ]
    },
    {
     "name": "stdout",
     "output_type": "stream",
     "text": [
      "Error decoding JSON: Expecting ',' delimiter: line 1 column 38 (char 37)\n",
      "The primary disease Melanoma can be best studied using which cell line?\n",
      "a) HKA-1\n",
      "b) PANFR0069\n",
      "c) NZM42\n",
      "d) YD-15\n",
      "{\"CHOICE\": \"b\", \"ANSWER\": \"PANFR0069\"\n"
     ]
    },
    {
     "name": "stderr",
     "output_type": "stream",
     "text": [
      " 77%|███████████████████████████████████████████████▉              | 1484/1921 [28:08<20:51,  2.86s/it]"
     ]
    },
    {
     "name": "stdout",
     "output_type": "stream",
     "text": [
      "Error decoding JSON: Extra data: line 3 column 1 (char 423)\n",
      "The primary disease Glassy Cell Carcinoma of the Cervix can be best studied using which cell line?\n",
      "a) HOKUG\n",
      "b) LU99\n",
      "c) LN-18\n",
      "d) Hs 860.T\n",
      "{\"CHOICE\": \"a\", \"ANSWER\": \"HOKUG is not available however,  HOKUG's alternative would be Hs 636.T, unfortunately that is not an option, another alternative would be Hs 860.T's alternative which is HOKUG's alternative, HeLa is not the best answer however, Hs 636.T is not an option, so the best answer is Hs 860.T's alternative which is a) not available so the best answer is a) HOKUG's alternative which is d) Hs 860.T.\"}\n",
      "\n",
      "However since HOKUG is not available \n",
      "{\"CHOICE\": \"d\", \"ANSWER\": \"Hs 860.T\"}\n"
     ]
    },
    {
     "name": "stderr",
     "output_type": "stream",
     "text": [
      " 88%|██████████████████████████████████████████████████████▊       | 1698/1921 [32:43<04:15,  1.15s/it]"
     ]
    },
    {
     "name": "stdout",
     "output_type": "stream",
     "text": [
      "Error decoding JSON: Expecting value: line 1 column 1 (char 0)\n",
      "The primary disease Non-Cancerous can be best studied using which cell line?\n",
      "a) MC-CAR\n",
      "b) PCI-38\n",
      "c) HNT-34\n",
      "d) NCI-H2228\n",
      "I can't answer that.\n"
     ]
    },
    {
     "name": "stderr",
     "output_type": "stream",
     "text": [
      " 93%|█████████████████████████████████████████████████████████▋    | 1789/1921 [34:47<04:18,  1.95s/it]"
     ]
    },
    {
     "name": "stdout",
     "output_type": "stream",
     "text": [
      "Error decoding JSON: Expecting value: line 1 column 1 (char 0)\n",
      "The primary disease Non-Cancerous can be best studied using which cell line?\n",
      "a) JVE-127\n",
      "b) NCIBL2052\n",
      "c) HCC2935\n",
      "d) NCI-H187\n",
      "I'm unable to determine the correct cell line to study Non-Cancerous disease as the options provided do not seem to match well-known cell lines for studying non-cancerous diseases. However, I can provide a general answer.\n",
      "\n",
      "{\"CHOICE\": \"b\", \"ANSWER\": \"NCIBL2052\"}\n"
     ]
    },
    {
     "name": "stderr",
     "output_type": "stream",
     "text": [
      " 93%|█████████████████████████████████████████████████████████▊    | 1791/1921 [34:50<03:24,  1.57s/it]"
     ]
    },
    {
     "name": "stdout",
     "output_type": "stream",
     "text": [
      "Error decoding JSON: Expecting value: line 1 column 1 (char 0)\n",
      "The primary disease Non-Cancerous can be best studied using which cell line?\n",
      "a) NUGC-3\n",
      "b) NCIBL209\n",
      "c) NCI-H1563\n",
      "d) HCC1187\n",
      "I'm unable to determine the correct cell line to study Non-Cancerous disease as the options provided are all cancer cell lines.\n"
     ]
    },
    {
     "name": "stderr",
     "output_type": "stream",
     "text": [
      " 94%|██████████████████████████████████████████████████████████▏   | 1804/1921 [35:07<02:29,  1.28s/it]"
     ]
    },
    {
     "name": "stdout",
     "output_type": "stream",
     "text": [
      "Error decoding JSON: Expecting value: line 1 column 1 (char 0)\n",
      "The primary disease Non-Cancerous can be best studied using which cell line?\n",
      "a) HCC1395BL\n",
      "b) OCI-Ly12\n",
      "c) SNU-175\n",
      "d) PACADD-135\n",
      "I can't answer that question with the information you have provided.\n"
     ]
    },
    {
     "name": "stderr",
     "output_type": "stream",
     "text": [
      " 98%|████████████████████████████████████████████████████████████▉ | 1887/1921 [37:01<00:41,  1.23s/it]"
     ]
    },
    {
     "name": "stdout",
     "output_type": "stream",
     "text": [
      "Error decoding JSON: Expecting ',' delimiter: line 1 column 34 (char 33)\n",
      "The primary disease Invasive Breast Carcinoma can be best studied using which cell line?\n",
      "a) PCI-38\n",
      "b) NH93T\n",
      "c) TUR\n",
      "d) MUTZ-8\n",
      "{\"CHOICE\": \"b\", \"ANSWER\": \"NH93T\"\n"
     ]
    },
    {
     "name": "stderr",
     "output_type": "stream",
     "text": [
      " 99%|█████████████████████████████████████████████████████████████▍| 1904/1921 [37:32<01:12,  4.29s/it]"
     ]
    },
    {
     "name": "stdout",
     "output_type": "stream",
     "text": [
      "Error decoding JSON: Extra data: line 3 column 1 (char 890)\n",
      "The primary disease Non-Cancerous can be best studied using which cell line?\n",
      "a) ABM-T0557\n",
      "b) CHLA-10\n",
      "c) Mino\n",
      "d) U-118 MG\n",
      "{\"CHOICE\": \"d\", \"ANSWER\": \"U-118 MG is not the best answer as it is a glioblastoma cell line. However, the question is unclear as to what 'Non-Cancerous' disease is being referred to. Typically, a non-cancerous cell line would be used to study non-cancerous diseases. An example would be HEK-293 cell line which is non-cancerous and often used in research. However, given the options, U-118 MG is the least likely to be correct answer as the other cell lines are more related to non-cancerous conditions or are unclear. ABM-T0557 is unclear. CHLA-10 is a cell line from a Ewing's Sarcoma but has characteristics of a Mesenchymal Stem Cell line. Mino is a cell line that exhibits characteristics of a Burkitt lymphoma but also has characteristics of a non-cancerous cell line. So the best answer given the options is likely 'c' Mino but more information is needed to give a clear answer.\"}\n",
      "\n",
      "Given the options I will choose Mino for this response.\n",
      "\n",
      "{\"CHOICE\": \"c\", \"ANSWER\": \"Mino\"}\n"
     ]
    },
    {
     "name": "stderr",
     "output_type": "stream",
     "text": [
      "100%|█████████████████████████████████████████████████████████████▋| 1912/1921 [37:42<00:11,  1.23s/it]"
     ]
    },
    {
     "name": "stdout",
     "output_type": "stream",
     "text": [
      "Error decoding JSON: Expecting value: line 1 column 1 (char 0)\n",
      "The primary disease Non-Cancerous can be best studied using which cell line?\n",
      "a) UPCI-SCC-026\n",
      "b) TTC-709\n",
      "c) ABM-T0796\n",
      "d) NCI-H345\n",
      "I can't answer that.\n"
     ]
    },
    {
     "name": "stderr",
     "output_type": "stream",
     "text": [
      "100%|█████████████████████████████████████████████████████████████▊| 1916/1921 [37:46<00:05,  1.07s/it]"
     ]
    },
    {
     "name": "stdout",
     "output_type": "stream",
     "text": [
      "Error decoding JSON: Expecting value: line 1 column 1 (char 0)\n",
      "The primary disease Non-Cancerous can be best studied using which cell line?\n",
      "a) ABM-T0797\n",
      "b) NCI-H1694\n",
      "c) TKKK\n",
      "d) PACADD-165\n",
      "I'm unable to verify the primary disease associated with the cell lines you've listed.\n"
     ]
    },
    {
     "name": "stderr",
     "output_type": "stream",
     "text": [
      "100%|██████████████████████████████████████████████████████████████| 1921/1921 [37:55<00:00,  1.18s/it]"
     ]
    },
    {
     "name": "stdout",
     "output_type": "stream",
     "text": [
      "1598 correct responses out of 1899\n"
     ]
    },
    {
     "name": "stderr",
     "output_type": "stream",
     "text": [
      "\n"
     ]
    }
   ],
   "source": [
    "import json\n",
    "from tqdm import tqdm\n",
    "from datetime import datetime\n",
    "\n",
    "df = load_data(infile)\n",
    "\n",
    "\n",
    "sys_reg_prompt = '''You are a cancer research scientist studying the potential effects of various small molecules, peptides, and \n",
    "antibiodies on tumor cell growth. You will be presented with a series of multiple choice questions. Please select the correct\n",
    "choice. Return the answer in json format {\"CHOICE\": \"choice\", \"ANSWER\": \"answer\"} where choice is only the alphabetic character \n",
    "associated with the full answer.'''\n",
    "# Note, I quoted choice and answer when model upgraded to llama31-405b-fp8\n",
    "\n",
    "# This is not working yet because the experts talk to each other thus making the\n",
    "# parsing of the final answer different from the sys_reg_prompt.\n",
    "sys_tot_prompt = '''Imagine three experts are answering this question.\n",
    "They will brainstorm the answer step by step, reasoning carefully and taking all facts into consideration.\n",
    "All experts will write down one step of their thinking, then share it with the group.\n",
    "They will each critique their response and all the responses of others.\n",
    "They will check their answer based on science, laws of physics and logic.\n",
    "Then all experts will go on to the next step and write down this step of their thinking.\n",
    "They will keep going through steps until they reach their conclusions taking into account the thoughts of the other experts.\n",
    "If at anytime they realize that there is a flaw in their logic they will backtrack to where the flaw occurred.\n",
    "If any expert realizes they are wrong at any point they acknowledge this and start another train of thought.\n",
    "Each expert will assign a likelihood of their current assertion being correct.\n",
    "Continue until the experts agree on the single most likely choice. Return the response in json format FINAL_ANSWER={\"DISCUSSION\": discussion, \"CHOICE\": choice, \"ANSWER\": answer} where choice is only the alphabetic character \n",
    "associated with the full answer.'''\n",
    " \n",
    "for i in range(0, 1): # 9):\n",
    "    num_correct = 0\n",
    "    total = 0\n",
    "    responses = []\n",
    "\n",
    "\n",
    "    for i in tqdm( range(df.shape[0]) ):\n",
    "        # get question, correct choice and answer\n",
    "        question, correct_choice, correct_answer, disease = construct_question(df, i)\n",
    "\n",
    "        # For debugging.\n",
    "        #print(f'{question}')\n",
    "        #print(f'The correct choice is {correct_choice}. {correct_answer}')\n",
    "        #print(f'The df row has {df.iloc[i][\"OncotreePrimaryDisease\"]} {df.iloc[i][\"CellLineName\"]}')\n",
    "    \n",
    "        # construct message\n",
    "        messages=[\n",
    "            {\"role\": \"system\", \n",
    "             \"content\": sys_reg_prompt\n",
    "            },\n",
    "            {\"role\": \"user\",\n",
    "             \"content\": question\n",
    "            }\n",
    "        ]\n",
    "    \n",
    "        chat_response = client.chat.completions.create(\n",
    "            model=model,\n",
    "            # logprobs=1,\n",
    "            # top_logprobs=1,\n",
    "            messages=messages,\n",
    "            temperature=0.0,\n",
    "            max_tokens=2560,\n",
    "        )\n",
    "        \n",
    "        \n",
    "        try:\n",
    "            response = json.loads(chat_response.choices[0].message.content)\n",
    "            response['CORRECT CHOICE'] = correct_choice\n",
    "            response['CORRECT ANSWER'] = correct_answer\n",
    "            response['PRIMARY_DISEASE'] = disease\n",
    "    \n",
    "            if response['CHOICE'] == correct_choice:\n",
    "                response['SCORE'] = 1\n",
    "                num_correct = num_correct + 1\n",
    "            else:\n",
    "                response['SCORE'] = 0\n",
    "                filtered_array = debug(i, disease, df, response[\"ANSWER\"])\n",
    "                if len(filtered_array) > 0:\n",
    "                    print(f'{question}\\n')\n",
    "                    print(f'choice: {response[\"CHOICE\"]} answer: {response[\"ANSWER\"]}')\n",
    "                    print(f'correct choice: {response[\"CORRECT CHOICE\"]} correct answer: {response[\"CORRECT ANSWER\"]}')\n",
    "                    print(f'index: {i}')\n",
    "                    print(f'wrong answer found in filtered array {filtered_array}')\n",
    "\n",
    "                    class MyException(Exception):\n",
    "                        pass\n",
    "                    raise MyException(\"My hovercraft is full of eels\")\n",
    "\n",
    "            total = total + 1\n",
    "            responses.append(response)\n",
    "            #print(f'{response}') \n",
    "\n",
    "        except json.JSONDecodeError as e:\n",
    "            print(f\"Error decoding JSON: {e}\")\n",
    "            print(f\"{question}\")\n",
    "            print(f\"{chat_response.choices[0].message.content}\")\n",
    "\n",
    "            response[\"CHOICE\"] =  \"e\"\n",
    "            response[\"ANSWER\"] =  chat_response.choices[0].message.content\n",
    "            response['CORRECT CHOICE'] = correct_choice\n",
    "            response['CORRECT ANSWER'] = correct_answer\n",
    "            response['PRIMARY_DISEASE'] = disease\n",
    "            response['SCORE'] = 0\n",
    "            \n",
    "            responses.append(response)\n",
    "            pass\n",
    "    \n",
    "    print(f'{num_correct} correct responses out of {total}')\n",
    "    timestamp = datetime.now().strftime(\"%Y%m%d%H%M%S\")\n",
    "\n",
    "    response_df = pd.DataFrame(responses)\n",
    "    response_df.to_csv(f'{f_prefix}_disease_eval_{timestamp}.tsv', index=None, sep=\"\\t\")\n",
    "\n",
    "    with open(f_prefix + '_disease_eval_summary.txt', 'a') as f:\n",
    "        print(f'{timestamp}\\t{num_correct} correct responses out of {total}', file=f)"
   ]
  },
  {
   "cell_type": "code",
   "execution_count": null,
   "id": "426a68dc-254e-42e8-a665-7aed86ae2786",
   "metadata": {},
   "outputs": [],
   "source": []
  }
 ],
 "metadata": {
  "kernelspec": {
   "display_name": "Python 3 (ipykernel)",
   "language": "python",
   "name": "python3"
  },
  "language_info": {
   "codemirror_mode": {
    "name": "ipython",
    "version": 3
   },
   "file_extension": ".py",
   "mimetype": "text/x-python",
   "name": "python",
   "nbconvert_exporter": "python",
   "pygments_lexer": "ipython3",
   "version": "3.9.18"
  }
 },
 "nbformat": 4,
 "nbformat_minor": 5
}
